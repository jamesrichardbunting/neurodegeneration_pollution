{
  "nbformat": 4,
  "nbformat_minor": 0,
  "metadata": {
    "colab": {
      "name": "postcode_coordinate_lookup.ipynb",
      "provenance": [],
      "collapsed_sections": [],
      "authorship_tag": "ABX9TyNRMl8UOuUnPvj6dP1GpmAd",
      "include_colab_link": true
    },
    "kernelspec": {
      "name": "python3",
      "display_name": "Python 3"
    },
    "language_info": {
      "name": "python"
    }
  },
  "cells": [
    {
      "cell_type": "markdown",
      "metadata": {
        "id": "view-in-github",
        "colab_type": "text"
      },
      "source": [
        "<a href=\"https://colab.research.google.com/github/jamesrichardbunting/neurodegeneration_pollution/blob/main/postcode_coordinate_lookup.ipynb\" target=\"_parent\"><img src=\"https://colab.research.google.com/assets/colab-badge.svg\" alt=\"Open In Colab\"/></a>"
      ]
    },
    {
      "cell_type": "markdown",
      "metadata": {
        "id": "8rA0j8KB7C5v"
      },
      "source": [
        "# 1. Data wrangling"
      ]
    },
    {
      "cell_type": "markdown",
      "metadata": {
        "id": "KNfNG7KfgKPp"
      },
      "source": [
        "## 1.1 Combine the postcode datasets\n",
        "\n",
        "Postcode data is provided as open data by the Office for National Statistics (ONS). \n",
        "\n",
        "All 1.7 million UK postcodes are provided, along the administrative area and NHS ward in which they lie, and their 'easting' and 'northing' coordinates. \n",
        "\n",
        "Easting and northings correspond to the postcodes x and y coordinates (respectively) on a grid reference map of the UK.\n",
        "\n",
        "The data are provided as 120 .CSV files and, in order to make later cross-referencing against pollution data easier, these individual files need to be collated into a single, easily searchable file. \n"
      ]
    },
    {
      "cell_type": "code",
      "metadata": {
        "id": "YeOgaiRJVWNk"
      },
      "source": [
        "# Import packages\n",
        "import pandas as pd\n",
        "import numpy as np\n",
        "import os\n",
        "import glob"
      ],
      "execution_count": 1,
      "outputs": []
    },
    {
      "cell_type": "code",
      "metadata": {
        "id": "_6DKfjw7_vVh"
      },
      "source": [
        "# Search the working directory for all .CSV files and save the file names to a new variable  \n",
        "extension = '.csv'\n",
        "csv_files = [i for i in glob.glob(f\"*{extension}\")]"
      ],
      "execution_count": null,
      "outputs": []
    },
    {
      "cell_type": "code",
      "metadata": {
        "id": "IrTzZJljC6iy"
      },
      "source": [
        "# Combine the files using the pd.concat() and pd.read_csv() methods, selecting only the postcode, eastings and northings data\n",
        "comb_postcodes = pd.concat([pd.read_csv(file, header=None, usecols=[0,2,3]) for file in csv_files], ignore_index=True)"
      ],
      "execution_count": null,
      "outputs": []
    },
    {
      "cell_type": "code",
      "metadata": {
        "colab": {
          "base_uri": "https://localhost:8080/",
          "height": 204
        },
        "id": "L9Feln6PDyaa",
        "outputId": "b2020010-f328-4682-f5fe-f1127072d5aa"
      },
      "source": [
        "# Check this has been successful\n",
        "comb_postcodes.head()"
      ],
      "execution_count": null,
      "outputs": [
        {
          "output_type": "execute_result",
          "data": {
            "text/html": [
              "<div>\n",
              "<style scoped>\n",
              "    .dataframe tbody tr th:only-of-type {\n",
              "        vertical-align: middle;\n",
              "    }\n",
              "\n",
              "    .dataframe tbody tr th {\n",
              "        vertical-align: top;\n",
              "    }\n",
              "\n",
              "    .dataframe thead th {\n",
              "        text-align: right;\n",
              "    }\n",
              "</style>\n",
              "<table border=\"1\" class=\"dataframe\">\n",
              "  <thead>\n",
              "    <tr style=\"text-align: right;\">\n",
              "      <th></th>\n",
              "      <th>Postcode</th>\n",
              "      <th>x</th>\n",
              "      <th>y</th>\n",
              "    </tr>\n",
              "  </thead>\n",
              "  <tbody>\n",
              "    <tr>\n",
              "      <th>0</th>\n",
              "      <td>OL1 1AA</td>\n",
              "      <td>393482</td>\n",
              "      <td>404988</td>\n",
              "    </tr>\n",
              "    <tr>\n",
              "      <th>1</th>\n",
              "      <td>OL1 1AD</td>\n",
              "      <td>392764</td>\n",
              "      <td>404929</td>\n",
              "    </tr>\n",
              "    <tr>\n",
              "      <th>2</th>\n",
              "      <td>OL1 1AL</td>\n",
              "      <td>392864</td>\n",
              "      <td>404822</td>\n",
              "    </tr>\n",
              "    <tr>\n",
              "      <th>3</th>\n",
              "      <td>OL1 1AN</td>\n",
              "      <td>392560</td>\n",
              "      <td>404725</td>\n",
              "    </tr>\n",
              "    <tr>\n",
              "      <th>4</th>\n",
              "      <td>OL1 1AP</td>\n",
              "      <td>392994</td>\n",
              "      <td>404904</td>\n",
              "    </tr>\n",
              "  </tbody>\n",
              "</table>\n",
              "</div>"
            ],
            "text/plain": [
              "  Postcode       x       y\n",
              "0  OL1 1AA  393482  404988\n",
              "1  OL1 1AD  392764  404929\n",
              "2  OL1 1AL  392864  404822\n",
              "3  OL1 1AN  392560  404725\n",
              "4  OL1 1AP  392994  404904"
            ]
          },
          "metadata": {
            "tags": []
          },
          "execution_count": 9
        }
      ]
    },
    {
      "cell_type": "code",
      "metadata": {
        "colab": {
          "base_uri": "https://localhost:8080/"
        },
        "id": "WaqMiLelLAGg",
        "outputId": "57e882b3-e05c-4132-dab3-21c8911293cc"
      },
      "source": [
        "comb_postcodes.shape"
      ],
      "execution_count": null,
      "outputs": [
        {
          "output_type": "execute_result",
          "data": {
            "text/plain": [
              "(1719485, 3)"
            ]
          },
          "metadata": {
            "tags": []
          },
          "execution_count": 10
        }
      ]
    },
    {
      "cell_type": "code",
      "metadata": {
        "id": "0-bRezgyNm06"
      },
      "source": [
        "# Add column headers\n",
        "comb_postcodes.columns = [\"Postcode\", \"x\", \"y\"]"
      ],
      "execution_count": null,
      "outputs": []
    },
    {
      "cell_type": "markdown",
      "metadata": {
        "id": "Hx089QFiNuPh"
      },
      "source": [
        "## 1.2 Combine the pollution datasets\n",
        "\n",
        "Pollution data is provided as open data by the Department for Environment, Food and Rural Affairs (Defra). \n",
        "\n",
        "The data I am working with are modelled (ie, predicted) background pollution maps, provided at 1km x 1km resolution where each 1km square is identified with x and y coordinates.\n",
        "\n",
        "These data are provided as .CSV files - one file per pollutant, per year from 2002 - 2019.\n",
        "\n",
        "For this first phase of analysis I will be concentrating on PM2.5 and need to collate yearly PM2.5 pollution maps into a time-series dataset, suitable for longitudinal analysis. "
      ]
    },
    {
      "cell_type": "code",
      "metadata": {
        "id": "ZCoWvT8eoq97"
      },
      "source": [
        "# Search the working directory for all files with a filename using 'map' as a prefix\n",
        "prefix = 'map*'\n",
        "pollution_files = [k for k in glob.glob(f\"*{prefix}\")]"
      ],
      "execution_count": 2,
      "outputs": []
    },
    {
      "cell_type": "code",
      "metadata": {
        "id": "58go08_1pKmb"
      },
      "source": [
        "# Combine the files using the pd.concat() and pd.read_csv() methods, selecting only the \n",
        "comb_pollution = pd.concat([pd.read_csv(file, skiprows=4, usecols=[3]) for file in pollution_files], ignore_index=True, axis = 1)"
      ],
      "execution_count": 18,
      "outputs": []
    },
    {
      "cell_type": "code",
      "metadata": {
        "colab": {
          "base_uri": "https://localhost:8080/",
          "height": 224
        },
        "id": "KTDWjwk-rArp",
        "outputId": "550262d1-2fcf-4da1-f291-624ec453cb13"
      },
      "source": [
        "#Check that this was successful\n",
        "comb_pollution.head()"
      ],
      "execution_count": 4,
      "outputs": [
        {
          "output_type": "execute_result",
          "data": {
            "text/html": [
              "<div>\n",
              "<style scoped>\n",
              "    .dataframe tbody tr th:only-of-type {\n",
              "        vertical-align: middle;\n",
              "    }\n",
              "\n",
              "    .dataframe tbody tr th {\n",
              "        vertical-align: top;\n",
              "    }\n",
              "\n",
              "    .dataframe thead th {\n",
              "        text-align: right;\n",
              "    }\n",
              "</style>\n",
              "<table border=\"1\" class=\"dataframe\">\n",
              "  <thead>\n",
              "    <tr style=\"text-align: right;\">\n",
              "      <th></th>\n",
              "      <th>0</th>\n",
              "      <th>1</th>\n",
              "      <th>2</th>\n",
              "      <th>3</th>\n",
              "      <th>4</th>\n",
              "      <th>5</th>\n",
              "      <th>6</th>\n",
              "      <th>7</th>\n",
              "      <th>8</th>\n",
              "      <th>9</th>\n",
              "      <th>10</th>\n",
              "      <th>11</th>\n",
              "      <th>12</th>\n",
              "      <th>13</th>\n",
              "      <th>14</th>\n",
              "      <th>15</th>\n",
              "      <th>16</th>\n",
              "      <th>17</th>\n",
              "    </tr>\n",
              "  </thead>\n",
              "  <tbody>\n",
              "    <tr>\n",
              "      <th>0</th>\n",
              "      <td>pm252019g</td>\n",
              "      <td>pm252003grav</td>\n",
              "      <td>pm2505ac</td>\n",
              "      <td>pm252008g</td>\n",
              "      <td>pm252012g</td>\n",
              "      <td>pm252014g</td>\n",
              "      <td>pm252011g</td>\n",
              "      <td>pm252007g</td>\n",
              "      <td>pm252017g</td>\n",
              "      <td>pm252015g</td>\n",
              "      <td>pm252018g</td>\n",
              "      <td>pm252010g</td>\n",
              "      <td>pm252002</td>\n",
              "      <td>pm252016g</td>\n",
              "      <td>pm252006gh</td>\n",
              "      <td>pm252009g</td>\n",
              "      <td>pm252004g</td>\n",
              "      <td>pm252013g</td>\n",
              "    </tr>\n",
              "    <tr>\n",
              "      <th>1</th>\n",
              "      <td>MISSING</td>\n",
              "      <td>MISSING</td>\n",
              "      <td>MISSING</td>\n",
              "      <td>MISSING</td>\n",
              "      <td>MISSING</td>\n",
              "      <td>MISSING</td>\n",
              "      <td>MISSING</td>\n",
              "      <td>MISSING</td>\n",
              "      <td>MISSING</td>\n",
              "      <td>MISSING</td>\n",
              "      <td>MISSING</td>\n",
              "      <td>MISSING</td>\n",
              "      <td>MISSING</td>\n",
              "      <td>MISSING</td>\n",
              "      <td>MISSING</td>\n",
              "      <td>MISSING</td>\n",
              "      <td>MISSING</td>\n",
              "      <td>MISSING</td>\n",
              "    </tr>\n",
              "    <tr>\n",
              "      <th>2</th>\n",
              "      <td>MISSING</td>\n",
              "      <td>MISSING</td>\n",
              "      <td>MISSING</td>\n",
              "      <td>MISSING</td>\n",
              "      <td>MISSING</td>\n",
              "      <td>MISSING</td>\n",
              "      <td>MISSING</td>\n",
              "      <td>MISSING</td>\n",
              "      <td>MISSING</td>\n",
              "      <td>MISSING</td>\n",
              "      <td>MISSING</td>\n",
              "      <td>MISSING</td>\n",
              "      <td>MISSING</td>\n",
              "      <td>MISSING</td>\n",
              "      <td>MISSING</td>\n",
              "      <td>MISSING</td>\n",
              "      <td>MISSING</td>\n",
              "      <td>MISSING</td>\n",
              "    </tr>\n",
              "    <tr>\n",
              "      <th>3</th>\n",
              "      <td>MISSING</td>\n",
              "      <td>MISSING</td>\n",
              "      <td>MISSING</td>\n",
              "      <td>MISSING</td>\n",
              "      <td>MISSING</td>\n",
              "      <td>MISSING</td>\n",
              "      <td>MISSING</td>\n",
              "      <td>MISSING</td>\n",
              "      <td>MISSING</td>\n",
              "      <td>MISSING</td>\n",
              "      <td>MISSING</td>\n",
              "      <td>MISSING</td>\n",
              "      <td>MISSING</td>\n",
              "      <td>MISSING</td>\n",
              "      <td>MISSING</td>\n",
              "      <td>MISSING</td>\n",
              "      <td>MISSING</td>\n",
              "      <td>MISSING</td>\n",
              "    </tr>\n",
              "    <tr>\n",
              "      <th>4</th>\n",
              "      <td>MISSING</td>\n",
              "      <td>MISSING</td>\n",
              "      <td>MISSING</td>\n",
              "      <td>MISSING</td>\n",
              "      <td>MISSING</td>\n",
              "      <td>MISSING</td>\n",
              "      <td>MISSING</td>\n",
              "      <td>MISSING</td>\n",
              "      <td>MISSING</td>\n",
              "      <td>MISSING</td>\n",
              "      <td>MISSING</td>\n",
              "      <td>MISSING</td>\n",
              "      <td>MISSING</td>\n",
              "      <td>MISSING</td>\n",
              "      <td>MISSING</td>\n",
              "      <td>MISSING</td>\n",
              "      <td>MISSING</td>\n",
              "      <td>MISSING</td>\n",
              "    </tr>\n",
              "  </tbody>\n",
              "</table>\n",
              "</div>"
            ],
            "text/plain": [
              "          0             1         2   ...         15         16         17\n",
              "0  pm252019g  pm252003grav  pm2505ac  ...  pm252009g  pm252004g  pm252013g\n",
              "1    MISSING       MISSING   MISSING  ...    MISSING    MISSING    MISSING\n",
              "2    MISSING       MISSING   MISSING  ...    MISSING    MISSING    MISSING\n",
              "3    MISSING       MISSING   MISSING  ...    MISSING    MISSING    MISSING\n",
              "4    MISSING       MISSING   MISSING  ...    MISSING    MISSING    MISSING\n",
              "\n",
              "[5 rows x 18 columns]"
            ]
          },
          "metadata": {
            "tags": []
          },
          "execution_count": 4
        }
      ]
    },
    {
      "cell_type": "markdown",
      "metadata": {
        "id": "_s8eXqJ_uQD5"
      },
      "source": [
        "I need to extract the year from the first row, make these the column headers and then organise the columns in chronological order. "
      ]
    },
    {
      "cell_type": "code",
      "metadata": {
        "id": "dTvI342UtkdA"
      },
      "source": [
        "# Firstly, separate the first row from the data, saving to a new variable\n",
        "yearly_headers = comb_pollution.iloc[:1 , :]\n",
        "comb_pollution = comb_pollution.iloc[1: , :]"
      ],
      "execution_count": 19,
      "outputs": []
    },
    {
      "cell_type": "code",
      "metadata": {
        "colab": {
          "base_uri": "https://localhost:8080/"
        },
        "id": "7akF01cBzIOX",
        "outputId": "b9ce517f-f371-4f6e-ded0-a3c77c331abc"
      },
      "source": [
        "# Convert the first row variable to a list \n",
        "yearly_headers = yearly_headers.values.tolist()\n",
        "yearly_headers"
      ],
      "execution_count": 20,
      "outputs": [
        {
          "output_type": "execute_result",
          "data": {
            "text/plain": [
              "[['pm252019g',\n",
              "  'pm252003grav',\n",
              "  'pm2505ac',\n",
              "  'pm252008g',\n",
              "  'pm252012g',\n",
              "  'pm252014g',\n",
              "  'pm252011g',\n",
              "  'pm252007g',\n",
              "  'pm252017g',\n",
              "  'pm252015g',\n",
              "  'pm252018g',\n",
              "  'pm252010g',\n",
              "  'pm252002',\n",
              "  'pm252016g',\n",
              "  'pm252006gh',\n",
              "  'pm252009g',\n",
              "  'pm252004g',\n",
              "  'pm252013g']]"
            ]
          },
          "metadata": {
            "tags": []
          },
          "execution_count": 20
        }
      ]
    },
    {
      "cell_type": "code",
      "metadata": {
        "colab": {
          "base_uri": "https://localhost:8080/"
        },
        "id": "hok9tD6e8aea",
        "outputId": "492bd50e-678a-4737-dc5d-fc2bd78ce176"
      },
      "source": [
        "# Because this has been converted from a Dataframe, it is a 'list within a list' so select only the inner list\n",
        "yearly_headers = yearly_headers[0]\n",
        "yearly_headers"
      ],
      "execution_count": 21,
      "outputs": [
        {
          "output_type": "execute_result",
          "data": {
            "text/plain": [
              "['pm252019g',\n",
              " 'pm252003grav',\n",
              " 'pm2505ac',\n",
              " 'pm252008g',\n",
              " 'pm252012g',\n",
              " 'pm252014g',\n",
              " 'pm252011g',\n",
              " 'pm252007g',\n",
              " 'pm252017g',\n",
              " 'pm252015g',\n",
              " 'pm252018g',\n",
              " 'pm252010g',\n",
              " 'pm252002',\n",
              " 'pm252016g',\n",
              " 'pm252006gh',\n",
              " 'pm252009g',\n",
              " 'pm252004g',\n",
              " 'pm252013g']"
            ]
          },
          "metadata": {
            "tags": []
          },
          "execution_count": 21
        }
      ]
    },
    {
      "cell_type": "code",
      "metadata": {
        "id": "z6zdvDf16phU"
      },
      "source": [
        "# Define a simple function to extract the date from these values\n",
        "def date_extractor(lst):\n",
        "    for i in range(len(lst)):\n",
        "        lst[i] = lst[i][4:8]\n",
        "    return lst"
      ],
      "execution_count": 22,
      "outputs": []
    },
    {
      "cell_type": "code",
      "metadata": {
        "colab": {
          "base_uri": "https://localhost:8080/"
        },
        "id": "c32GyHsFzSPZ",
        "outputId": "e530698d-b7d3-454e-b858-f624ffa91739"
      },
      "source": [
        "# Apply the function and check the results\n",
        "yearly_headers = date_extractor(yearly_headers)\n",
        "yearly_headers"
      ],
      "execution_count": 23,
      "outputs": [
        {
          "output_type": "execute_result",
          "data": {
            "text/plain": [
              "['2019',\n",
              " '2003',\n",
              " '05ac',\n",
              " '2008',\n",
              " '2012',\n",
              " '2014',\n",
              " '2011',\n",
              " '2007',\n",
              " '2017',\n",
              " '2015',\n",
              " '2018',\n",
              " '2010',\n",
              " '2002',\n",
              " '2016',\n",
              " '2006',\n",
              " '2009',\n",
              " '2004',\n",
              " '2013']"
            ]
          },
          "metadata": {
            "tags": []
          },
          "execution_count": 23
        }
      ]
    },
    {
      "cell_type": "markdown",
      "metadata": {
        "id": "PmOkQs9l_1FS"
      },
      "source": [
        "This has worked but, because of an inconsistency with the way the year was recorded in 2005, (it was abbrevated to '05') I will have to fix this date manually."
      ]
    },
    {
      "cell_type": "code",
      "metadata": {
        "colab": {
          "base_uri": "https://localhost:8080/"
        },
        "id": "_94jTE0GAmYb",
        "outputId": "ed9b01fe-2b41-4c99-d9fb-b36347a06612"
      },
      "source": [
        "# Fix the date format for 2005 and check the result\n",
        "yearly_headers[2] = '2005'\n",
        "yearly_headers"
      ],
      "execution_count": 26,
      "outputs": [
        {
          "output_type": "execute_result",
          "data": {
            "text/plain": [
              "['2019',\n",
              " '2003',\n",
              " '2005',\n",
              " '2008',\n",
              " '2012',\n",
              " '2014',\n",
              " '2011',\n",
              " '2007',\n",
              " '2017',\n",
              " '2015',\n",
              " '2018',\n",
              " '2010',\n",
              " '2002',\n",
              " '2016',\n",
              " '2006',\n",
              " '2009',\n",
              " '2004',\n",
              " '2013']"
            ]
          },
          "metadata": {
            "tags": []
          },
          "execution_count": 26
        }
      ]
    },
    {
      "cell_type": "code",
      "metadata": {
        "colab": {
          "base_uri": "https://localhost:8080/",
          "height": 224
        },
        "id": "TPoTlD_wBWim",
        "outputId": "f8261670-2efb-4cd0-d4a9-d537d75e4a3d"
      },
      "source": [
        "# Apply these years as header columns to the PM2.5 dataset\n",
        "comb_pollution.columns = yearly_headers\n",
        "comb_pollution.head()"
      ],
      "execution_count": 27,
      "outputs": [
        {
          "output_type": "execute_result",
          "data": {
            "text/html": [
              "<div>\n",
              "<style scoped>\n",
              "    .dataframe tbody tr th:only-of-type {\n",
              "        vertical-align: middle;\n",
              "    }\n",
              "\n",
              "    .dataframe tbody tr th {\n",
              "        vertical-align: top;\n",
              "    }\n",
              "\n",
              "    .dataframe thead th {\n",
              "        text-align: right;\n",
              "    }\n",
              "</style>\n",
              "<table border=\"1\" class=\"dataframe\">\n",
              "  <thead>\n",
              "    <tr style=\"text-align: right;\">\n",
              "      <th></th>\n",
              "      <th>2019</th>\n",
              "      <th>2003</th>\n",
              "      <th>2005</th>\n",
              "      <th>2008</th>\n",
              "      <th>2012</th>\n",
              "      <th>2014</th>\n",
              "      <th>2011</th>\n",
              "      <th>2007</th>\n",
              "      <th>2017</th>\n",
              "      <th>2015</th>\n",
              "      <th>2018</th>\n",
              "      <th>2010</th>\n",
              "      <th>2002</th>\n",
              "      <th>2016</th>\n",
              "      <th>2006</th>\n",
              "      <th>2009</th>\n",
              "      <th>2004</th>\n",
              "      <th>2013</th>\n",
              "    </tr>\n",
              "  </thead>\n",
              "  <tbody>\n",
              "    <tr>\n",
              "      <th>1</th>\n",
              "      <td>MISSING</td>\n",
              "      <td>MISSING</td>\n",
              "      <td>MISSING</td>\n",
              "      <td>MISSING</td>\n",
              "      <td>MISSING</td>\n",
              "      <td>MISSING</td>\n",
              "      <td>MISSING</td>\n",
              "      <td>MISSING</td>\n",
              "      <td>MISSING</td>\n",
              "      <td>MISSING</td>\n",
              "      <td>MISSING</td>\n",
              "      <td>MISSING</td>\n",
              "      <td>MISSING</td>\n",
              "      <td>MISSING</td>\n",
              "      <td>MISSING</td>\n",
              "      <td>MISSING</td>\n",
              "      <td>MISSING</td>\n",
              "      <td>MISSING</td>\n",
              "    </tr>\n",
              "    <tr>\n",
              "      <th>2</th>\n",
              "      <td>MISSING</td>\n",
              "      <td>MISSING</td>\n",
              "      <td>MISSING</td>\n",
              "      <td>MISSING</td>\n",
              "      <td>MISSING</td>\n",
              "      <td>MISSING</td>\n",
              "      <td>MISSING</td>\n",
              "      <td>MISSING</td>\n",
              "      <td>MISSING</td>\n",
              "      <td>MISSING</td>\n",
              "      <td>MISSING</td>\n",
              "      <td>MISSING</td>\n",
              "      <td>MISSING</td>\n",
              "      <td>MISSING</td>\n",
              "      <td>MISSING</td>\n",
              "      <td>MISSING</td>\n",
              "      <td>MISSING</td>\n",
              "      <td>MISSING</td>\n",
              "    </tr>\n",
              "    <tr>\n",
              "      <th>3</th>\n",
              "      <td>MISSING</td>\n",
              "      <td>MISSING</td>\n",
              "      <td>MISSING</td>\n",
              "      <td>MISSING</td>\n",
              "      <td>MISSING</td>\n",
              "      <td>MISSING</td>\n",
              "      <td>MISSING</td>\n",
              "      <td>MISSING</td>\n",
              "      <td>MISSING</td>\n",
              "      <td>MISSING</td>\n",
              "      <td>MISSING</td>\n",
              "      <td>MISSING</td>\n",
              "      <td>MISSING</td>\n",
              "      <td>MISSING</td>\n",
              "      <td>MISSING</td>\n",
              "      <td>MISSING</td>\n",
              "      <td>MISSING</td>\n",
              "      <td>MISSING</td>\n",
              "    </tr>\n",
              "    <tr>\n",
              "      <th>4</th>\n",
              "      <td>MISSING</td>\n",
              "      <td>MISSING</td>\n",
              "      <td>MISSING</td>\n",
              "      <td>MISSING</td>\n",
              "      <td>MISSING</td>\n",
              "      <td>MISSING</td>\n",
              "      <td>MISSING</td>\n",
              "      <td>MISSING</td>\n",
              "      <td>MISSING</td>\n",
              "      <td>MISSING</td>\n",
              "      <td>MISSING</td>\n",
              "      <td>MISSING</td>\n",
              "      <td>MISSING</td>\n",
              "      <td>MISSING</td>\n",
              "      <td>MISSING</td>\n",
              "      <td>MISSING</td>\n",
              "      <td>MISSING</td>\n",
              "      <td>MISSING</td>\n",
              "    </tr>\n",
              "    <tr>\n",
              "      <th>5</th>\n",
              "      <td>MISSING</td>\n",
              "      <td>MISSING</td>\n",
              "      <td>MISSING</td>\n",
              "      <td>MISSING</td>\n",
              "      <td>MISSING</td>\n",
              "      <td>MISSING</td>\n",
              "      <td>MISSING</td>\n",
              "      <td>MISSING</td>\n",
              "      <td>MISSING</td>\n",
              "      <td>MISSING</td>\n",
              "      <td>MISSING</td>\n",
              "      <td>MISSING</td>\n",
              "      <td>MISSING</td>\n",
              "      <td>MISSING</td>\n",
              "      <td>MISSING</td>\n",
              "      <td>MISSING</td>\n",
              "      <td>MISSING</td>\n",
              "      <td>MISSING</td>\n",
              "    </tr>\n",
              "  </tbody>\n",
              "</table>\n",
              "</div>"
            ],
            "text/plain": [
              "      2019     2003     2005     2008  ...     2006     2009     2004     2013\n",
              "1  MISSING  MISSING  MISSING  MISSING  ...  MISSING  MISSING  MISSING  MISSING\n",
              "2  MISSING  MISSING  MISSING  MISSING  ...  MISSING  MISSING  MISSING  MISSING\n",
              "3  MISSING  MISSING  MISSING  MISSING  ...  MISSING  MISSING  MISSING  MISSING\n",
              "4  MISSING  MISSING  MISSING  MISSING  ...  MISSING  MISSING  MISSING  MISSING\n",
              "5  MISSING  MISSING  MISSING  MISSING  ...  MISSING  MISSING  MISSING  MISSING\n",
              "\n",
              "[5 rows x 18 columns]"
            ]
          },
          "metadata": {
            "tags": []
          },
          "execution_count": 27
        }
      ]
    },
    {
      "cell_type": "code",
      "metadata": {
        "colab": {
          "base_uri": "https://localhost:8080/",
          "height": 224
        },
        "id": "E6h6tzpkE5CZ",
        "outputId": "f643bd87-a900-4192-8aee-14a0a0991389"
      },
      "source": [
        "comb_pollution = comb_pollution.reindex(sorted(comb_pollution.columns), axis=1)\n",
        "comb_pollution.head()"
      ],
      "execution_count": 28,
      "outputs": [
        {
          "output_type": "execute_result",
          "data": {
            "text/html": [
              "<div>\n",
              "<style scoped>\n",
              "    .dataframe tbody tr th:only-of-type {\n",
              "        vertical-align: middle;\n",
              "    }\n",
              "\n",
              "    .dataframe tbody tr th {\n",
              "        vertical-align: top;\n",
              "    }\n",
              "\n",
              "    .dataframe thead th {\n",
              "        text-align: right;\n",
              "    }\n",
              "</style>\n",
              "<table border=\"1\" class=\"dataframe\">\n",
              "  <thead>\n",
              "    <tr style=\"text-align: right;\">\n",
              "      <th></th>\n",
              "      <th>2002</th>\n",
              "      <th>2003</th>\n",
              "      <th>2004</th>\n",
              "      <th>2005</th>\n",
              "      <th>2006</th>\n",
              "      <th>2007</th>\n",
              "      <th>2008</th>\n",
              "      <th>2009</th>\n",
              "      <th>2010</th>\n",
              "      <th>2011</th>\n",
              "      <th>2012</th>\n",
              "      <th>2013</th>\n",
              "      <th>2014</th>\n",
              "      <th>2015</th>\n",
              "      <th>2016</th>\n",
              "      <th>2017</th>\n",
              "      <th>2018</th>\n",
              "      <th>2019</th>\n",
              "    </tr>\n",
              "  </thead>\n",
              "  <tbody>\n",
              "    <tr>\n",
              "      <th>1</th>\n",
              "      <td>MISSING</td>\n",
              "      <td>MISSING</td>\n",
              "      <td>MISSING</td>\n",
              "      <td>MISSING</td>\n",
              "      <td>MISSING</td>\n",
              "      <td>MISSING</td>\n",
              "      <td>MISSING</td>\n",
              "      <td>MISSING</td>\n",
              "      <td>MISSING</td>\n",
              "      <td>MISSING</td>\n",
              "      <td>MISSING</td>\n",
              "      <td>MISSING</td>\n",
              "      <td>MISSING</td>\n",
              "      <td>MISSING</td>\n",
              "      <td>MISSING</td>\n",
              "      <td>MISSING</td>\n",
              "      <td>MISSING</td>\n",
              "      <td>MISSING</td>\n",
              "    </tr>\n",
              "    <tr>\n",
              "      <th>2</th>\n",
              "      <td>MISSING</td>\n",
              "      <td>MISSING</td>\n",
              "      <td>MISSING</td>\n",
              "      <td>MISSING</td>\n",
              "      <td>MISSING</td>\n",
              "      <td>MISSING</td>\n",
              "      <td>MISSING</td>\n",
              "      <td>MISSING</td>\n",
              "      <td>MISSING</td>\n",
              "      <td>MISSING</td>\n",
              "      <td>MISSING</td>\n",
              "      <td>MISSING</td>\n",
              "      <td>MISSING</td>\n",
              "      <td>MISSING</td>\n",
              "      <td>MISSING</td>\n",
              "      <td>MISSING</td>\n",
              "      <td>MISSING</td>\n",
              "      <td>MISSING</td>\n",
              "    </tr>\n",
              "    <tr>\n",
              "      <th>3</th>\n",
              "      <td>MISSING</td>\n",
              "      <td>MISSING</td>\n",
              "      <td>MISSING</td>\n",
              "      <td>MISSING</td>\n",
              "      <td>MISSING</td>\n",
              "      <td>MISSING</td>\n",
              "      <td>MISSING</td>\n",
              "      <td>MISSING</td>\n",
              "      <td>MISSING</td>\n",
              "      <td>MISSING</td>\n",
              "      <td>MISSING</td>\n",
              "      <td>MISSING</td>\n",
              "      <td>MISSING</td>\n",
              "      <td>MISSING</td>\n",
              "      <td>MISSING</td>\n",
              "      <td>MISSING</td>\n",
              "      <td>MISSING</td>\n",
              "      <td>MISSING</td>\n",
              "    </tr>\n",
              "    <tr>\n",
              "      <th>4</th>\n",
              "      <td>MISSING</td>\n",
              "      <td>MISSING</td>\n",
              "      <td>MISSING</td>\n",
              "      <td>MISSING</td>\n",
              "      <td>MISSING</td>\n",
              "      <td>MISSING</td>\n",
              "      <td>MISSING</td>\n",
              "      <td>MISSING</td>\n",
              "      <td>MISSING</td>\n",
              "      <td>MISSING</td>\n",
              "      <td>MISSING</td>\n",
              "      <td>MISSING</td>\n",
              "      <td>MISSING</td>\n",
              "      <td>MISSING</td>\n",
              "      <td>MISSING</td>\n",
              "      <td>MISSING</td>\n",
              "      <td>MISSING</td>\n",
              "      <td>MISSING</td>\n",
              "    </tr>\n",
              "    <tr>\n",
              "      <th>5</th>\n",
              "      <td>MISSING</td>\n",
              "      <td>MISSING</td>\n",
              "      <td>MISSING</td>\n",
              "      <td>MISSING</td>\n",
              "      <td>MISSING</td>\n",
              "      <td>MISSING</td>\n",
              "      <td>MISSING</td>\n",
              "      <td>MISSING</td>\n",
              "      <td>MISSING</td>\n",
              "      <td>MISSING</td>\n",
              "      <td>MISSING</td>\n",
              "      <td>MISSING</td>\n",
              "      <td>MISSING</td>\n",
              "      <td>MISSING</td>\n",
              "      <td>MISSING</td>\n",
              "      <td>MISSING</td>\n",
              "      <td>MISSING</td>\n",
              "      <td>MISSING</td>\n",
              "    </tr>\n",
              "  </tbody>\n",
              "</table>\n",
              "</div>"
            ],
            "text/plain": [
              "      2002     2003     2004     2005  ...     2016     2017     2018     2019\n",
              "1  MISSING  MISSING  MISSING  MISSING  ...  MISSING  MISSING  MISSING  MISSING\n",
              "2  MISSING  MISSING  MISSING  MISSING  ...  MISSING  MISSING  MISSING  MISSING\n",
              "3  MISSING  MISSING  MISSING  MISSING  ...  MISSING  MISSING  MISSING  MISSING\n",
              "4  MISSING  MISSING  MISSING  MISSING  ...  MISSING  MISSING  MISSING  MISSING\n",
              "5  MISSING  MISSING  MISSING  MISSING  ...  MISSING  MISSING  MISSING  MISSING\n",
              "\n",
              "[5 rows x 18 columns]"
            ]
          },
          "metadata": {
            "tags": []
          },
          "execution_count": 28
        }
      ]
    }
  ]
}