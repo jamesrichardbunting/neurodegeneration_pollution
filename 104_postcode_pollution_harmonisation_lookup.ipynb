{
  "nbformat": 4,
  "nbformat_minor": 0,
  "metadata": {
    "colab": {
      "name": "104_postcode_pollution_harmonisation_lookup.ipynb",
      "provenance": [],
      "collapsed_sections": [],
      "authorship_tag": "ABX9TyMk14g8d06RAszO58XgyZwG",
      "include_colab_link": true
    },
    "kernelspec": {
      "name": "python3",
      "display_name": "Python 3"
    },
    "language_info": {
      "name": "python"
    }
  },
  "cells": [
    {
      "cell_type": "markdown",
      "metadata": {
        "id": "view-in-github",
        "colab_type": "text"
      },
      "source": [
        "<a href=\"https://colab.research.google.com/github/jamesrichardbunting/neurodegeneration_pollution/blob/main/104_postcode_pollution_harmonisation_lookup.ipynb\" target=\"_parent\"><img src=\"https://colab.research.google.com/assets/colab-badge.svg\" alt=\"Open In Colab\"/></a>"
      ]
    },
    {
      "cell_type": "markdown",
      "metadata": {
        "id": "1xdXb3NHbIVx"
      },
      "source": [
        "# 1. Data prep"
      ]
    },
    {
      "cell_type": "markdown",
      "metadata": {
        "id": "Hx089QFiNuPh"
      },
      "source": [
        "## 104. Postcode / pollution lookup (2/2)\n",
        "\n",
        "In Notebook 103 I generated and appended Ordnance Survey (OS) National Grid reference codes to every postcode and every pollution map cell, corresponding to the 1km square cell in which they lie. \n",
        "\n",
        "In this notebook, I will use the Grid Reference codes as lookup values between the two datasets, appending postcodes to every pollution cell.\n"
      ]
    },
    {
      "cell_type": "code",
      "metadata": {
        "id": "WWYBpzzmWV77"
      },
      "source": [
        "# Import packages\n",
        "import pandas as pd\n",
        "import numpy as np"
      ],
      "execution_count": 1,
      "outputs": []
    },
    {
      "cell_type": "code",
      "metadata": {
        "id": "tckcCTBCWjll"
      },
      "source": [
        "# Load datasets into working variables\n",
        "postcodes = pd.read_csv('/content/final_postcodes.csv', \n",
        "                        dtype={'Postcode' : 'str',\n",
        "                               'Eastings' : 'Int64',\n",
        "                               'Northings' : 'Int64',\n",
        "                               'Grid_ref' : 'str'})\n",
        "\n",
        "pm25_long = pd.read_csv('/content/pm25_long_grid.csv', \n",
        "                        dtype={'Eastings': 'Int64',\n",
        "                               'Northings': 'Int64',\n",
        "                               '2002': np.float64,\n",
        "                               '2003': np.float64,\n",
        "                               '2004': np.float64,\n",
        "                               '2005': np.float64,\n",
        "                               '2006': np.float64,\n",
        "                               '2007': np.float64,\n",
        "                               '2008': np.float64,\n",
        "                               '2009': np.float64,\n",
        "                               '2010': np.float64,\n",
        "                               '2011': np.float64,\n",
        "                               '2012': np.float64,\n",
        "                               '2013': np.float64,\n",
        "                               '2014': np.float64,\n",
        "                               '2015': np.float64,\n",
        "                               '2016': np.float64,\n",
        "                               '2017': np.float64,\n",
        "                               '2018': np.float64,\n",
        "                               '2019': np.float64,\n",
        "                               'Grid_ref' : 'str'})"
      ],
      "execution_count": 49,
      "outputs": []
    },
    {
      "cell_type": "code",
      "metadata": {
        "colab": {
          "base_uri": "https://localhost:8080/"
        },
        "id": "b0n7G0yOZ-tG",
        "outputId": "56f14fbf-b38c-477b-e61b-273127a461a4"
      },
      "source": [
        "# Check the files have loaded properly\n",
        "print(postcodes.head())\n",
        "print(pm25_long.head())"
      ],
      "execution_count": 50,
      "outputs": [
        {
          "output_type": "stream",
          "text": [
            "   Unnamed: 0 Postcode  Eastings  Northings Grid_ref\n",
            "0           0  AB101AB    394235     806529   NJ9406\n",
            "1           1  AB101AF    394235     806529   NJ9406\n",
            "2           2  AB101AG    394230     806469   NJ9406\n",
            "3           3  AB101AH    394235     806529   NJ9406\n",
            "4           4  AB101AL    394296     806581   NJ9406\n",
            "   Unnamed: 0  Eastings  Northings  ...      2018      2019  Grid_ref\n",
            "0           0    449500    1204500  ...  2.986548  2.809464    HP4904\n",
            "1           1    450500    1204500  ...  2.986847  2.809300    HP5004\n",
            "2           2    451500    1204500  ...  2.998164  2.820699    HP5104\n",
            "3           3    452500    1204500  ...  3.003749  2.826752    HP5204\n",
            "4           4    453500    1204500  ...  3.021582  2.842594    HP5304\n",
            "\n",
            "[5 rows x 22 columns]\n"
          ],
          "name": "stdout"
        }
      ]
    },
    {
      "cell_type": "code",
      "metadata": {
        "colab": {
          "base_uri": "https://localhost:8080/"
        },
        "id": "m8cf3OvNavpz",
        "outputId": "8bde111b-67dc-4126-9b14-7a1c2cc997d6"
      },
      "source": [
        "# Remove unneeded columns\n",
        "postcodes = postcodes.drop(['Unnamed: 0', 'Eastings', 'Northings'], axis=1)\n",
        "pm25_long = pm25_long.drop(['Unnamed: 0', 'Eastings', 'Northings'], axis=1)\n",
        "\n",
        "# Check the output\n",
        "print(postcodes.head())\n",
        "print(pm25_long.head())"
      ],
      "execution_count": 51,
      "outputs": [
        {
          "output_type": "stream",
          "text": [
            "  Postcode Grid_ref\n",
            "0  AB101AB   NJ9406\n",
            "1  AB101AF   NJ9406\n",
            "2  AB101AG   NJ9406\n",
            "3  AB101AH   NJ9406\n",
            "4  AB101AL   NJ9406\n",
            "       2002      2003      2004  ...      2018      2019  Grid_ref\n",
            "0  5.508577  5.904274  4.958202  ...  2.986548  2.809464    HP4904\n",
            "1  5.509383  5.905135  4.961749  ...  2.986847  2.809300    HP5004\n",
            "2  5.511036  5.906586  4.964243  ...  2.998164  2.820699    HP5104\n",
            "3  5.512560  5.908208  4.967636  ...  3.003749  2.826752    HP5204\n",
            "4  5.514749  5.914227  4.981335  ...  3.021582  2.842594    HP5304\n",
            "\n",
            "[5 rows x 19 columns]\n"
          ],
          "name": "stdout"
        }
      ]
    },
    {
      "cell_type": "markdown",
      "metadata": {
        "id": "bGf-yaG3n8fz"
      },
      "source": [
        "### Group postcodes by Grid Reference"
      ]
    },
    {
      "cell_type": "markdown",
      "metadata": {
        "id": "DvraCpV7oo_T"
      },
      "source": [
        "My first job is to group postcodes that reside in the same 1km square This will make the eventual lookup between dataframes quicker and more efficient.  "
      ]
    },
    {
      "cell_type": "code",
      "metadata": {
        "id": "mXD-Nvzeo3Y6"
      },
      "source": [
        "# Group postcodes by 'Grid_ref' value\n",
        "trans_postcodes = postcodes.groupby('Grid_ref')\n",
        "\n",
        "# Convert to list type\n",
        "trans_postcodes = trans_postcodes['Postcode'].apply(list)\n",
        "\n",
        "# Reset index\n",
        "trans_postcodes = trans_postcodes.reset_index()"
      ],
      "execution_count": 58,
      "outputs": []
    },
    {
      "cell_type": "code",
      "metadata": {
        "colab": {
          "base_uri": "https://localhost:8080/"
        },
        "id": "iSx2advzqyhW",
        "outputId": "05bad794-2326-47a8-87d3-91e5eb80f1fc"
      },
      "source": [
        "# Check output \n",
        "print(trans_postcodes.head())\n",
        "print(trans_postcodes.shape)"
      ],
      "execution_count": 62,
      "outputs": [
        {
          "output_type": "stream",
          "text": [
            "  Grid_ref            Postcode\n",
            "0   HP5303  [ZE2 9DD, ZE2 9DE]\n",
            "1   HP5304  [ZE2 9BB, ZE2 9BZ]\n",
            "2   HP5803           [ZE2 9DW]\n",
            "3   HP5900  [ZE2 9DN, ZE2 9EH]\n",
            "4   HP6000           [ZE2 9DL]\n",
            "(123036, 2)\n"
          ],
          "name": "stdout"
        }
      ]
    },
    {
      "cell_type": "code",
      "metadata": {
        "colab": {
          "base_uri": "https://localhost:8080/"
        },
        "id": "IWS5WS3PtYGB",
        "outputId": "cb8e38c4-0b9d-4fe6-c812-b7921c65d198"
      },
      "source": [
        "print(f\"\"\"\n",
        "I have reduced the dimensionality of the postcode dataset to: {trans_postcodes.shape[0] / postcodes.shape[0]:.1%}\n",
        "\"\"\")"
      ],
      "execution_count": 63,
      "outputs": [
        {
          "output_type": "stream",
          "text": [
            "\n",
            "I have reduced the dimensionality of the postcode dataset to: 7.2%\n",
            "\n"
          ],
          "name": "stdout"
        }
      ]
    },
    {
      "cell_type": "markdown",
      "metadata": {
        "id": "N2i7q8SDtsyi"
      },
      "source": [
        "### Merge postcode and pollution datasets"
      ]
    },
    {
      "cell_type": "markdown",
      "metadata": {
        "id": "lAb_7snKtPkR"
      },
      "source": [
        "I can now merge the two datasets according to matching Grid References.\n"
      ]
    },
    {
      "cell_type": "code",
      "metadata": {
        "id": "y9kWVSWcsvfp"
      },
      "source": [
        "# Merge dataframes on the'Grid_ref' column using default inner join\n",
        "pm25_long_postcodes = pd.merge(pm25_long,\n",
        "                               trans_postcodes,\n",
        "                               on='Grid_ref')"
      ],
      "execution_count": 65,
      "outputs": []
    },
    {
      "cell_type": "code",
      "metadata": {
        "colab": {
          "base_uri": "https://localhost:8080/",
          "height": 344
        },
        "id": "uzp5CU2u8JlJ",
        "outputId": "de11dfc6-9e5a-4a57-9bc3-b99bec623cf2"
      },
      "source": [
        "# Check the output \n",
        "pm25_long_postcodes.head()"
      ],
      "execution_count": 74,
      "outputs": [
        {
          "output_type": "execute_result",
          "data": {
            "text/html": [
              "<div>\n",
              "<style scoped>\n",
              "    .dataframe tbody tr th:only-of-type {\n",
              "        vertical-align: middle;\n",
              "    }\n",
              "\n",
              "    .dataframe tbody tr th {\n",
              "        vertical-align: top;\n",
              "    }\n",
              "\n",
              "    .dataframe thead th {\n",
              "        text-align: right;\n",
              "    }\n",
              "</style>\n",
              "<table border=\"1\" class=\"dataframe\">\n",
              "  <thead>\n",
              "    <tr style=\"text-align: right;\">\n",
              "      <th></th>\n",
              "      <th>2002</th>\n",
              "      <th>2003</th>\n",
              "      <th>2004</th>\n",
              "      <th>2005</th>\n",
              "      <th>2006</th>\n",
              "      <th>2007</th>\n",
              "      <th>2008</th>\n",
              "      <th>2009</th>\n",
              "      <th>2010</th>\n",
              "      <th>2011</th>\n",
              "      <th>2012</th>\n",
              "      <th>2013</th>\n",
              "      <th>2014</th>\n",
              "      <th>2015</th>\n",
              "      <th>2016</th>\n",
              "      <th>2017</th>\n",
              "      <th>2018</th>\n",
              "      <th>2019</th>\n",
              "      <th>Grid_ref</th>\n",
              "      <th>Postcode</th>\n",
              "    </tr>\n",
              "  </thead>\n",
              "  <tbody>\n",
              "    <tr>\n",
              "      <th>0</th>\n",
              "      <td>5.514749</td>\n",
              "      <td>5.914227</td>\n",
              "      <td>4.981335</td>\n",
              "      <td>3.540267</td>\n",
              "      <td>5.957929</td>\n",
              "      <td>5.117910</td>\n",
              "      <td>4.255414</td>\n",
              "      <td>4.829100</td>\n",
              "      <td>6.699368</td>\n",
              "      <td>7.217539</td>\n",
              "      <td>6.061306</td>\n",
              "      <td>5.838717</td>\n",
              "      <td>6.206523</td>\n",
              "      <td>4.814907</td>\n",
              "      <td>3.379198</td>\n",
              "      <td>3.355659</td>\n",
              "      <td>3.021582</td>\n",
              "      <td>2.842594</td>\n",
              "      <td>HP5304</td>\n",
              "      <td>[ZE2 9BB, ZE2 9BZ]</td>\n",
              "    </tr>\n",
              "    <tr>\n",
              "      <th>1</th>\n",
              "      <td>5.517454</td>\n",
              "      <td>5.916950</td>\n",
              "      <td>4.989788</td>\n",
              "      <td>3.543163</td>\n",
              "      <td>5.961709</td>\n",
              "      <td>5.111147</td>\n",
              "      <td>4.248519</td>\n",
              "      <td>4.824398</td>\n",
              "      <td>6.697355</td>\n",
              "      <td>7.215009</td>\n",
              "      <td>6.058562</td>\n",
              "      <td>5.827984</td>\n",
              "      <td>6.192360</td>\n",
              "      <td>4.799379</td>\n",
              "      <td>3.373939</td>\n",
              "      <td>3.353308</td>\n",
              "      <td>3.020325</td>\n",
              "      <td>2.841708</td>\n",
              "      <td>HP5303</td>\n",
              "      <td>[ZE2 9DD, ZE2 9DE]</td>\n",
              "    </tr>\n",
              "    <tr>\n",
              "      <th>2</th>\n",
              "      <td>5.519502</td>\n",
              "      <td>5.946100</td>\n",
              "      <td>5.493266</td>\n",
              "      <td>4.052172</td>\n",
              "      <td>6.479181</td>\n",
              "      <td>5.638840</td>\n",
              "      <td>4.753676</td>\n",
              "      <td>5.486241</td>\n",
              "      <td>6.694517</td>\n",
              "      <td>7.237729</td>\n",
              "      <td>6.024529</td>\n",
              "      <td>5.809897</td>\n",
              "      <td>6.172776</td>\n",
              "      <td>4.772047</td>\n",
              "      <td>3.369199</td>\n",
              "      <td>3.351140</td>\n",
              "      <td>3.012448</td>\n",
              "      <td>2.832444</td>\n",
              "      <td>HU5198</td>\n",
              "      <td>[ZE2 9DQ]</td>\n",
              "    </tr>\n",
              "    <tr>\n",
              "      <th>3</th>\n",
              "      <td>5.523847</td>\n",
              "      <td>5.976072</td>\n",
              "      <td>5.592174</td>\n",
              "      <td>4.096052</td>\n",
              "      <td>6.529981</td>\n",
              "      <td>5.661076</td>\n",
              "      <td>4.818233</td>\n",
              "      <td>5.560419</td>\n",
              "      <td>6.763672</td>\n",
              "      <td>7.320381</td>\n",
              "      <td>6.134806</td>\n",
              "      <td>5.903045</td>\n",
              "      <td>6.286397</td>\n",
              "      <td>4.879957</td>\n",
              "      <td>3.418933</td>\n",
              "      <td>3.417825</td>\n",
              "      <td>3.082657</td>\n",
              "      <td>2.897314</td>\n",
              "      <td>HU5498</td>\n",
              "      <td>[ZE2 9DF]</td>\n",
              "    </tr>\n",
              "    <tr>\n",
              "      <th>4</th>\n",
              "      <td>5.519471</td>\n",
              "      <td>5.959595</td>\n",
              "      <td>5.542004</td>\n",
              "      <td>4.074066</td>\n",
              "      <td>6.504464</td>\n",
              "      <td>5.649133</td>\n",
              "      <td>4.771908</td>\n",
              "      <td>5.506301</td>\n",
              "      <td>6.722859</td>\n",
              "      <td>7.264177</td>\n",
              "      <td>6.044989</td>\n",
              "      <td>5.845307</td>\n",
              "      <td>6.218940</td>\n",
              "      <td>4.807485</td>\n",
              "      <td>3.377687</td>\n",
              "      <td>3.365021</td>\n",
              "      <td>3.030917</td>\n",
              "      <td>2.847821</td>\n",
              "      <td>HU5297</td>\n",
              "      <td>[ZE2 9DG]</td>\n",
              "    </tr>\n",
              "  </tbody>\n",
              "</table>\n",
              "</div>"
            ],
            "text/plain": [
              "       2002      2003      2004  ...      2019  Grid_ref            Postcode\n",
              "0  5.514749  5.914227  4.981335  ...  2.842594    HP5304  [ZE2 9BB, ZE2 9BZ]\n",
              "1  5.517454  5.916950  4.989788  ...  2.841708    HP5303  [ZE2 9DD, ZE2 9DE]\n",
              "2  5.519502  5.946100  5.493266  ...  2.832444    HU5198           [ZE2 9DQ]\n",
              "3  5.523847  5.976072  5.592174  ...  2.897314    HU5498           [ZE2 9DF]\n",
              "4  5.519471  5.959595  5.542004  ...  2.847821    HU5297           [ZE2 9DG]\n",
              "\n",
              "[5 rows x 20 columns]"
            ]
          },
          "metadata": {},
          "execution_count": 74
        }
      ]
    }
  ]
}