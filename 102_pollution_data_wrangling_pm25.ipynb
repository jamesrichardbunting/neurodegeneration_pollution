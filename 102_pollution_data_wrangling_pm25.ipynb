{
  "nbformat": 4,
  "nbformat_minor": 0,
  "metadata": {
    "colab": {
      "name": "102_pollution_data_wrangling_pm25.ipynb",
      "provenance": [],
      "collapsed_sections": [],
      "authorship_tag": "ABX9TyMufyK+mzVxa96Za206tYXa",
      "include_colab_link": true
    },
    "kernelspec": {
      "name": "python3",
      "display_name": "Python 3"
    },
    "language_info": {
      "name": "python"
    }
  },
  "cells": [
    {
      "cell_type": "markdown",
      "metadata": {
        "id": "view-in-github",
        "colab_type": "text"
      },
      "source": [
        "<a href=\"https://colab.research.google.com/github/jamesrichardbunting/neurodegeneration_pollution/blob/main/102_pollution_data_wrangling_pm25.ipynb\" target=\"_parent\"><img src=\"https://colab.research.google.com/assets/colab-badge.svg\" alt=\"Open In Colab\"/></a>"
      ]
    },
    {
      "cell_type": "markdown",
      "metadata": {
        "id": "1xdXb3NHbIVx"
      },
      "source": [
        "# 1. Data wrangling"
      ]
    },
    {
      "cell_type": "markdown",
      "metadata": {
        "id": "Hx089QFiNuPh"
      },
      "source": [
        "## 102. Combine the pollution datasets\n",
        "\n",
        "Pollution data is provided as open data by the Department for Environment, Food and Rural Affairs (Defra). \n",
        "\n",
        "The data I am working with are modelled (ie, predicted) background pollution maps, provided at 1km x 1km resolution across the UK. In this phase of analysis I am concerned only with the PM2.5 pollutant.\n",
        "\n",
        "Modelled values of PM2.5 go back to 2002 and each year's predictions (up to 2019) are provided in an individual .CSV file. \n",
        "\n",
        "In this notebook I will collate the yearly predictions, producing a time-series dataset that is suitable for longitudinal analysis. \n"
      ]
    },
    {
      "cell_type": "code",
      "metadata": {
        "id": "J79HqyGgcsBA"
      },
      "source": [
        "# Import packages\n",
        "import pandas as pd\n",
        "import numpy as np\n",
        "import os\n",
        "import glob"
      ],
      "execution_count": 1,
      "outputs": []
    },
    {
      "cell_type": "markdown",
      "metadata": {
        "id": "G8aPI1rZcw9-"
      },
      "source": [
        "I will define a simple function to identify all pollution files in the working directory, saving the filenames to a new variable. "
      ]
    },
    {
      "cell_type": "code",
      "metadata": {
        "id": "ZCoWvT8eoq97"
      },
      "source": [
        "# Define a function to identify all pollutions files in the working directory\n",
        "def pollution_finder(): \n",
        "  prefix = 'map*' # Define the string to be used as a search term (note that all pollution files use 'map' as a prefix)\n",
        "  pollution_files = [j for j in glob.glob(f\"*{prefix}\")] # Search working directory for files using the prefix, saving the file names\n",
        "  return pollution_files # Return the list of matching files \n"
      ],
      "execution_count": 2,
      "outputs": []
    },
    {
      "cell_type": "code",
      "metadata": {
        "id": "I_Ct-RErdWYH"
      },
      "source": [
        "# Call the function and save output to a new variable\n",
        "pollution_files = pollution_finder()"
      ],
      "execution_count": 3,
      "outputs": []
    },
    {
      "cell_type": "code",
      "metadata": {
        "colab": {
          "base_uri": "https://localhost:8080/"
        },
        "id": "BFcgI37_dbHf",
        "outputId": "f53d7177-d7f4-4417-946a-2975d7870c7e"
      },
      "source": [
        "# Check the ouput\n",
        "pollution_files"
      ],
      "execution_count": 4,
      "outputs": [
        {
          "output_type": "execute_result",
          "data": {
            "text/plain": [
              "['mappm252013g.csv',\n",
              " 'mappm2505ac.csv',\n",
              " 'mappm252008g.csv',\n",
              " 'mappm252011g.csv',\n",
              " 'mappm252004g.csv',\n",
              " 'mappm252019g.csv',\n",
              " 'mappm252016g.csv',\n",
              " 'mappm252007g.csv',\n",
              " 'mappm252002 (1).csv',\n",
              " 'mappm252010g.csv',\n",
              " 'mappm252018g.csv',\n",
              " 'mappm252006gh.csv',\n",
              " 'mappm252015g.csv',\n",
              " 'mappm252012g.csv',\n",
              " 'mappm252009g.csv',\n",
              " 'mappm252017g.csv',\n",
              " 'mappm252014g.csv',\n",
              " 'mappm252003grav.csv']"
            ]
          },
          "metadata": {},
          "execution_count": 4
        }
      ]
    },
    {
      "cell_type": "markdown",
      "metadata": {
        "id": "eVLYw30zeJy_"
      },
      "source": [
        "These files are not ordered, which is needed to ensure the time-series data are appended in the correct order. \n",
        "\n",
        "Automatic sorting will not produce perfect results because of inconsistencies in the way the files have been named, but I can fix any mistakes manually. \n"
      ]
    },
    {
      "cell_type": "code",
      "metadata": {
        "id": "XV2bR_z6gXPR"
      },
      "source": [
        "# Sort the list of filenames\n",
        "pollution_files = sorted(pollution_files)"
      ],
      "execution_count": 5,
      "outputs": []
    },
    {
      "cell_type": "code",
      "metadata": {
        "colab": {
          "base_uri": "https://localhost:8080/"
        },
        "id": "sOBNY0vLga-B",
        "outputId": "eedcf468-d412-4085-add8-940ebb7e6d09"
      },
      "source": [
        "# Check the output\n",
        "pollution_files"
      ],
      "execution_count": 6,
      "outputs": [
        {
          "output_type": "execute_result",
          "data": {
            "text/plain": [
              "['mappm2505ac.csv',\n",
              " 'mappm252002 (1).csv',\n",
              " 'mappm252003grav.csv',\n",
              " 'mappm252004g.csv',\n",
              " 'mappm252006gh.csv',\n",
              " 'mappm252007g.csv',\n",
              " 'mappm252008g.csv',\n",
              " 'mappm252009g.csv',\n",
              " 'mappm252010g.csv',\n",
              " 'mappm252011g.csv',\n",
              " 'mappm252012g.csv',\n",
              " 'mappm252013g.csv',\n",
              " 'mappm252014g.csv',\n",
              " 'mappm252015g.csv',\n",
              " 'mappm252016g.csv',\n",
              " 'mappm252017g.csv',\n",
              " 'mappm252018g.csv',\n",
              " 'mappm252019g.csv']"
            ]
          },
          "metadata": {},
          "execution_count": 6
        }
      ]
    },
    {
      "cell_type": "markdown",
      "metadata": {
        "id": "7syUgeNLhESe"
      },
      "source": [
        "Only the file for 2005 ('mappm2505ac.csv') has been incorrectly sorted. I will fix this manually. "
      ]
    },
    {
      "cell_type": "code",
      "metadata": {
        "id": "HjEF-7LffcTL"
      },
      "source": [
        "# Define a simple function to move a list element one position to another\n",
        "def list_rearranger(lst, rem_pos, ins_pos):\n",
        "  lst.insert(ins_pos, lst.pop(rem_pos))"
      ],
      "execution_count": 7,
      "outputs": []
    },
    {
      "cell_type": "code",
      "metadata": {
        "id": "rNl_GTy7nN8Y"
      },
      "source": [
        "# Call the function on the list of pollution filenames to move the 2005 file to its correct position at index 0 to index 3\n",
        "list_rearranger(pollution_files, 0, 3)"
      ],
      "execution_count": 8,
      "outputs": []
    },
    {
      "cell_type": "code",
      "metadata": {
        "colab": {
          "base_uri": "https://localhost:8080/"
        },
        "id": "lgQyo6KRngVe",
        "outputId": "e630084f-5688-41ac-b10a-a36b21e6c040"
      },
      "source": [
        "# Check the output\n",
        "print(pollution_files)"
      ],
      "execution_count": 9,
      "outputs": [
        {
          "output_type": "stream",
          "text": [
            "['mappm252002 (1).csv', 'mappm252003grav.csv', 'mappm252004g.csv', 'mappm2505ac.csv', 'mappm252006gh.csv', 'mappm252007g.csv', 'mappm252008g.csv', 'mappm252009g.csv', 'mappm252010g.csv', 'mappm252011g.csv', 'mappm252012g.csv', 'mappm252013g.csv', 'mappm252014g.csv', 'mappm252015g.csv', 'mappm252016g.csv', 'mappm252017g.csv', 'mappm252018g.csv', 'mappm252019g.csv']\n"
          ],
          "name": "stdout"
        }
      ]
    },
    {
      "cell_type": "markdown",
      "metadata": {
        "id": "YnssYEben2Yo"
      },
      "source": [
        "Great. Now the filenames are sorted I can collate them in the correct order.\n",
        "\n",
        "Let's first view the structure of these files to understand how we should perform the collation. \n"
      ]
    },
    {
      "cell_type": "code",
      "metadata": {
        "colab": {
          "base_uri": "https://localhost:8080/",
          "height": 415
        },
        "id": "ZC7QcuBJoZ8L",
        "outputId": "e259a83a-f17c-45d9-ed36-05b10ba50e6a"
      },
      "source": [
        "# Load file and print the first 10 rows\n",
        "pm25_2002 = pd.read_csv('/content/mappm252002 (1).csv')\n",
        "pm25_2002.head(10)"
      ],
      "execution_count": 41,
      "outputs": [
        {
          "output_type": "stream",
          "text": [
            "/usr/local/lib/python3.7/dist-packages/IPython/core/interactiveshell.py:2718: DtypeWarning: Columns (0,1,2) have mixed types.Specify dtype option on import or set low_memory=False.\n",
            "  interactivity=interactivity, compiler=compiler, result=result)\n"
          ],
          "name": "stderr"
        },
        {
          "output_type": "execute_result",
          "data": {
            "text/html": [
              "<div>\n",
              "<style scoped>\n",
              "    .dataframe tbody tr th:only-of-type {\n",
              "        vertical-align: middle;\n",
              "    }\n",
              "\n",
              "    .dataframe tbody tr th {\n",
              "        vertical-align: top;\n",
              "    }\n",
              "\n",
              "    .dataframe thead th {\n",
              "        text-align: right;\n",
              "    }\n",
              "</style>\n",
              "<table border=\"1\" class=\"dataframe\">\n",
              "  <thead>\n",
              "    <tr style=\"text-align: right;\">\n",
              "      <th></th>\n",
              "      <th>pm2.5</th>\n",
              "      <th>Unnamed: 1</th>\n",
              "      <th>Unnamed: 2</th>\n",
              "      <th>Unnamed: 3</th>\n",
              "    </tr>\n",
              "  </thead>\n",
              "  <tbody>\n",
              "    <tr>\n",
              "      <th>0</th>\n",
              "      <td>2002</td>\n",
              "      <td>NaN</td>\n",
              "      <td>NaN</td>\n",
              "      <td>NaN</td>\n",
              "    </tr>\n",
              "    <tr>\n",
              "      <th>1</th>\n",
              "      <td>annual mean</td>\n",
              "      <td>NaN</td>\n",
              "      <td>NaN</td>\n",
              "      <td>NaN</td>\n",
              "    </tr>\n",
              "    <tr>\n",
              "      <th>2</th>\n",
              "      <td>ug m-3</td>\n",
              "      <td>NaN</td>\n",
              "      <td>NaN</td>\n",
              "      <td>NaN</td>\n",
              "    </tr>\n",
              "    <tr>\n",
              "      <th>3</th>\n",
              "      <td>NaN</td>\n",
              "      <td>NaN</td>\n",
              "      <td>NaN</td>\n",
              "      <td>NaN</td>\n",
              "    </tr>\n",
              "    <tr>\n",
              "      <th>4</th>\n",
              "      <td>ukgridcode</td>\n",
              "      <td>x</td>\n",
              "      <td>y</td>\n",
              "      <td>pm252002</td>\n",
              "    </tr>\n",
              "    <tr>\n",
              "      <th>5</th>\n",
              "      <td>54291</td>\n",
              "      <td>460500</td>\n",
              "      <td>1221500</td>\n",
              "      <td>MISSING</td>\n",
              "    </tr>\n",
              "    <tr>\n",
              "      <th>6</th>\n",
              "      <td>54292</td>\n",
              "      <td>461500</td>\n",
              "      <td>1221500</td>\n",
              "      <td>MISSING</td>\n",
              "    </tr>\n",
              "    <tr>\n",
              "      <th>7</th>\n",
              "      <td>54294</td>\n",
              "      <td>463500</td>\n",
              "      <td>1221500</td>\n",
              "      <td>MISSING</td>\n",
              "    </tr>\n",
              "    <tr>\n",
              "      <th>8</th>\n",
              "      <td>54979</td>\n",
              "      <td>458500</td>\n",
              "      <td>1220500</td>\n",
              "      <td>MISSING</td>\n",
              "    </tr>\n",
              "    <tr>\n",
              "      <th>9</th>\n",
              "      <td>54980</td>\n",
              "      <td>459500</td>\n",
              "      <td>1220500</td>\n",
              "      <td>MISSING</td>\n",
              "    </tr>\n",
              "  </tbody>\n",
              "</table>\n",
              "</div>"
            ],
            "text/plain": [
              "         pm2.5 Unnamed: 1 Unnamed: 2 Unnamed: 3\n",
              "0         2002        NaN        NaN        NaN\n",
              "1  annual mean        NaN        NaN        NaN\n",
              "2       ug m-3        NaN        NaN        NaN\n",
              "3          NaN        NaN        NaN        NaN\n",
              "4   ukgridcode          x          y   pm252002\n",
              "5        54291     460500    1221500    MISSING\n",
              "6        54292     461500    1221500    MISSING\n",
              "7        54294     463500    1221500    MISSING\n",
              "8        54979     458500    1220500    MISSING\n",
              "9        54980     459500    1220500    MISSING"
            ]
          },
          "metadata": {},
          "execution_count": 41
        }
      ]
    },
    {
      "cell_type": "markdown",
      "metadata": {
        "id": "ivT9k0I6o-PD"
      },
      "source": [
        "The first 4 rows are given over to metadata and can be subsetted out during the collation process. \n",
        "\n",
        "The 5th row contains columns headers. I will leave this row in to provide a simple way of checking that the collation has taken place in the correct order. \n",
        "\n",
        "The first 3 columns contain the 'gridcode', easting and northing values for each 1km square observation. This information is consistent across all yearly files so can be subsetted out of the collation process and added to the combined file afterwards.\n",
        "\n",
        "Therefore the only information I need to include from each file is **column 4, from row 5 down**. \n",
        "\n",
        "Lastly, the data viewed above shows that there are a lot of 'MISSING' values. These are squares for which the centre of the grid is not located on land and therefore no predicted value has been provided. I can treat all instances of 'MISSING' values as NaN. "
      ]
    },
    {
      "cell_type": "code",
      "metadata": {
        "id": "FpPUaI-ooHme"
      },
      "source": [
        "# Define a function that accepts a list of filenames, collates them on column 4 only and returns the combined file\n",
        "def pollution_combiner(filenames):\n",
        "  comb_pollution = pd.concat([pd.read_csv(file, skiprows=4, usecols=[3], na_values = 'MISSING') for file in pollution_files], ignore_index=True, axis = 1)\n",
        "  return comb_pollution"
      ],
      "execution_count": 16,
      "outputs": []
    },
    {
      "cell_type": "code",
      "metadata": {
        "id": "58go08_1pKmb",
        "colab": {
          "base_uri": "https://localhost:8080/"
        },
        "outputId": "21fff2dc-7c22-4fd4-fdd8-38e06acba3ad"
      },
      "source": [
        "# Call the function and save output to a new variable\n",
        "pm25_long = pollution_combiner(pollution_files)"
      ],
      "execution_count": 58,
      "outputs": [
        {
          "output_type": "stream",
          "text": [
            "/usr/local/lib/python3.7/dist-packages/IPython/core/interactiveshell.py:2882: DtypeWarning: Columns (3) have mixed types.Specify dtype option on import or set low_memory=False.\n",
            "  exec(code_obj, self.user_global_ns, self.user_ns)\n"
          ],
          "name": "stderr"
        }
      ]
    },
    {
      "cell_type": "code",
      "metadata": {
        "colab": {
          "base_uri": "https://localhost:8080/",
          "height": 224
        },
        "id": "KTDWjwk-rArp",
        "outputId": "50a1f74d-b0ba-4dbb-eaf3-a09d6369c2c5"
      },
      "source": [
        "# Check that this was successful\n",
        "pm25_long.head()"
      ],
      "execution_count": 53,
      "outputs": [
        {
          "output_type": "execute_result",
          "data": {
            "text/html": [
              "<div>\n",
              "<style scoped>\n",
              "    .dataframe tbody tr th:only-of-type {\n",
              "        vertical-align: middle;\n",
              "    }\n",
              "\n",
              "    .dataframe tbody tr th {\n",
              "        vertical-align: top;\n",
              "    }\n",
              "\n",
              "    .dataframe thead th {\n",
              "        text-align: right;\n",
              "    }\n",
              "</style>\n",
              "<table border=\"1\" class=\"dataframe\">\n",
              "  <thead>\n",
              "    <tr style=\"text-align: right;\">\n",
              "      <th></th>\n",
              "      <th>0</th>\n",
              "      <th>1</th>\n",
              "      <th>2</th>\n",
              "      <th>3</th>\n",
              "      <th>4</th>\n",
              "      <th>5</th>\n",
              "      <th>6</th>\n",
              "      <th>7</th>\n",
              "      <th>8</th>\n",
              "      <th>9</th>\n",
              "      <th>10</th>\n",
              "      <th>11</th>\n",
              "      <th>12</th>\n",
              "      <th>13</th>\n",
              "      <th>14</th>\n",
              "      <th>15</th>\n",
              "      <th>16</th>\n",
              "      <th>17</th>\n",
              "    </tr>\n",
              "  </thead>\n",
              "  <tbody>\n",
              "    <tr>\n",
              "      <th>0</th>\n",
              "      <td>pm252002</td>\n",
              "      <td>pm252003grav</td>\n",
              "      <td>pm252004g</td>\n",
              "      <td>pm2505ac</td>\n",
              "      <td>pm252006gh</td>\n",
              "      <td>pm252007g</td>\n",
              "      <td>pm252008g</td>\n",
              "      <td>pm252009g</td>\n",
              "      <td>pm252010g</td>\n",
              "      <td>pm252011g</td>\n",
              "      <td>pm252012g</td>\n",
              "      <td>pm252013g</td>\n",
              "      <td>pm252014g</td>\n",
              "      <td>pm252015g</td>\n",
              "      <td>pm252016g</td>\n",
              "      <td>pm252017g</td>\n",
              "      <td>pm252018g</td>\n",
              "      <td>pm252019g</td>\n",
              "    </tr>\n",
              "    <tr>\n",
              "      <th>1</th>\n",
              "      <td>NaN</td>\n",
              "      <td>NaN</td>\n",
              "      <td>NaN</td>\n",
              "      <td>NaN</td>\n",
              "      <td>NaN</td>\n",
              "      <td>NaN</td>\n",
              "      <td>NaN</td>\n",
              "      <td>NaN</td>\n",
              "      <td>NaN</td>\n",
              "      <td>NaN</td>\n",
              "      <td>NaN</td>\n",
              "      <td>NaN</td>\n",
              "      <td>NaN</td>\n",
              "      <td>NaN</td>\n",
              "      <td>NaN</td>\n",
              "      <td>NaN</td>\n",
              "      <td>NaN</td>\n",
              "      <td>NaN</td>\n",
              "    </tr>\n",
              "    <tr>\n",
              "      <th>2</th>\n",
              "      <td>NaN</td>\n",
              "      <td>NaN</td>\n",
              "      <td>NaN</td>\n",
              "      <td>NaN</td>\n",
              "      <td>NaN</td>\n",
              "      <td>NaN</td>\n",
              "      <td>NaN</td>\n",
              "      <td>NaN</td>\n",
              "      <td>NaN</td>\n",
              "      <td>NaN</td>\n",
              "      <td>NaN</td>\n",
              "      <td>NaN</td>\n",
              "      <td>NaN</td>\n",
              "      <td>NaN</td>\n",
              "      <td>NaN</td>\n",
              "      <td>NaN</td>\n",
              "      <td>NaN</td>\n",
              "      <td>NaN</td>\n",
              "    </tr>\n",
              "    <tr>\n",
              "      <th>3</th>\n",
              "      <td>NaN</td>\n",
              "      <td>NaN</td>\n",
              "      <td>NaN</td>\n",
              "      <td>NaN</td>\n",
              "      <td>NaN</td>\n",
              "      <td>NaN</td>\n",
              "      <td>NaN</td>\n",
              "      <td>NaN</td>\n",
              "      <td>NaN</td>\n",
              "      <td>NaN</td>\n",
              "      <td>NaN</td>\n",
              "      <td>NaN</td>\n",
              "      <td>NaN</td>\n",
              "      <td>NaN</td>\n",
              "      <td>NaN</td>\n",
              "      <td>NaN</td>\n",
              "      <td>NaN</td>\n",
              "      <td>NaN</td>\n",
              "    </tr>\n",
              "    <tr>\n",
              "      <th>4</th>\n",
              "      <td>NaN</td>\n",
              "      <td>NaN</td>\n",
              "      <td>NaN</td>\n",
              "      <td>NaN</td>\n",
              "      <td>NaN</td>\n",
              "      <td>NaN</td>\n",
              "      <td>NaN</td>\n",
              "      <td>NaN</td>\n",
              "      <td>NaN</td>\n",
              "      <td>NaN</td>\n",
              "      <td>NaN</td>\n",
              "      <td>NaN</td>\n",
              "      <td>NaN</td>\n",
              "      <td>NaN</td>\n",
              "      <td>NaN</td>\n",
              "      <td>NaN</td>\n",
              "      <td>NaN</td>\n",
              "      <td>NaN</td>\n",
              "    </tr>\n",
              "  </tbody>\n",
              "</table>\n",
              "</div>"
            ],
            "text/plain": [
              "         0             1          2   ...         15         16         17\n",
              "0  pm252002  pm252003grav  pm252004g  ...  pm252017g  pm252018g  pm252019g\n",
              "1       NaN           NaN        NaN  ...        NaN        NaN        NaN\n",
              "2       NaN           NaN        NaN  ...        NaN        NaN        NaN\n",
              "3       NaN           NaN        NaN  ...        NaN        NaN        NaN\n",
              "4       NaN           NaN        NaN  ...        NaN        NaN        NaN\n",
              "\n",
              "[5 rows x 18 columns]"
            ]
          },
          "metadata": {},
          "execution_count": 53
        }
      ]
    },
    {
      "cell_type": "markdown",
      "metadata": {
        "id": "_s8eXqJ_uQD5"
      },
      "source": [
        "This has worked as expected and the first row confirms that the files have been collated in the correct order. \n",
        "\n",
        "I can now remove the first row and add appropriate column headers.  "
      ]
    },
    {
      "cell_type": "code",
      "metadata": {
        "colab": {
          "base_uri": "https://localhost:8080/",
          "height": 204
        },
        "id": "-gEuwZOsr0yO",
        "outputId": "03d80edd-164e-4da0-ce49-53ce4fa7f0f0"
      },
      "source": [
        "# Define column headers\n",
        "yearly_headers = ['2002', '2003', '2004', '2005', '2006', '2007', '2008',\t'2009',\t'2010',\t'2011',\t'2012',\t'2013',\t'2014',\t'2015',\t'2016',\t'2017',\t'2018',\t'2019']\n",
        "\n",
        "# Subset out the first row\n",
        "pm25_long = pm25_long.iloc[1: , :]\n",
        "\n",
        "# Add column headers\n",
        "pm25_long.columns = yearly_headers\n",
        "\n",
        "# Check output is correct\n",
        "pm25_long.head()"
      ],
      "execution_count": 59,
      "outputs": [
        {
          "output_type": "execute_result",
          "data": {
            "text/html": [
              "<div>\n",
              "<style scoped>\n",
              "    .dataframe tbody tr th:only-of-type {\n",
              "        vertical-align: middle;\n",
              "    }\n",
              "\n",
              "    .dataframe tbody tr th {\n",
              "        vertical-align: top;\n",
              "    }\n",
              "\n",
              "    .dataframe thead th {\n",
              "        text-align: right;\n",
              "    }\n",
              "</style>\n",
              "<table border=\"1\" class=\"dataframe\">\n",
              "  <thead>\n",
              "    <tr style=\"text-align: right;\">\n",
              "      <th></th>\n",
              "      <th>2002</th>\n",
              "      <th>2003</th>\n",
              "      <th>2004</th>\n",
              "      <th>2005</th>\n",
              "      <th>2006</th>\n",
              "      <th>2007</th>\n",
              "      <th>2008</th>\n",
              "      <th>2009</th>\n",
              "      <th>2010</th>\n",
              "      <th>2011</th>\n",
              "      <th>2012</th>\n",
              "      <th>2013</th>\n",
              "      <th>2014</th>\n",
              "      <th>2015</th>\n",
              "      <th>2016</th>\n",
              "      <th>2017</th>\n",
              "      <th>2018</th>\n",
              "      <th>2019</th>\n",
              "    </tr>\n",
              "  </thead>\n",
              "  <tbody>\n",
              "    <tr>\n",
              "      <th>1</th>\n",
              "      <td>NaN</td>\n",
              "      <td>NaN</td>\n",
              "      <td>NaN</td>\n",
              "      <td>NaN</td>\n",
              "      <td>NaN</td>\n",
              "      <td>NaN</td>\n",
              "      <td>NaN</td>\n",
              "      <td>NaN</td>\n",
              "      <td>NaN</td>\n",
              "      <td>NaN</td>\n",
              "      <td>NaN</td>\n",
              "      <td>NaN</td>\n",
              "      <td>NaN</td>\n",
              "      <td>NaN</td>\n",
              "      <td>NaN</td>\n",
              "      <td>NaN</td>\n",
              "      <td>NaN</td>\n",
              "      <td>NaN</td>\n",
              "    </tr>\n",
              "    <tr>\n",
              "      <th>2</th>\n",
              "      <td>NaN</td>\n",
              "      <td>NaN</td>\n",
              "      <td>NaN</td>\n",
              "      <td>NaN</td>\n",
              "      <td>NaN</td>\n",
              "      <td>NaN</td>\n",
              "      <td>NaN</td>\n",
              "      <td>NaN</td>\n",
              "      <td>NaN</td>\n",
              "      <td>NaN</td>\n",
              "      <td>NaN</td>\n",
              "      <td>NaN</td>\n",
              "      <td>NaN</td>\n",
              "      <td>NaN</td>\n",
              "      <td>NaN</td>\n",
              "      <td>NaN</td>\n",
              "      <td>NaN</td>\n",
              "      <td>NaN</td>\n",
              "    </tr>\n",
              "    <tr>\n",
              "      <th>3</th>\n",
              "      <td>NaN</td>\n",
              "      <td>NaN</td>\n",
              "      <td>NaN</td>\n",
              "      <td>NaN</td>\n",
              "      <td>NaN</td>\n",
              "      <td>NaN</td>\n",
              "      <td>NaN</td>\n",
              "      <td>NaN</td>\n",
              "      <td>NaN</td>\n",
              "      <td>NaN</td>\n",
              "      <td>NaN</td>\n",
              "      <td>NaN</td>\n",
              "      <td>NaN</td>\n",
              "      <td>NaN</td>\n",
              "      <td>NaN</td>\n",
              "      <td>NaN</td>\n",
              "      <td>NaN</td>\n",
              "      <td>NaN</td>\n",
              "    </tr>\n",
              "    <tr>\n",
              "      <th>4</th>\n",
              "      <td>NaN</td>\n",
              "      <td>NaN</td>\n",
              "      <td>NaN</td>\n",
              "      <td>NaN</td>\n",
              "      <td>NaN</td>\n",
              "      <td>NaN</td>\n",
              "      <td>NaN</td>\n",
              "      <td>NaN</td>\n",
              "      <td>NaN</td>\n",
              "      <td>NaN</td>\n",
              "      <td>NaN</td>\n",
              "      <td>NaN</td>\n",
              "      <td>NaN</td>\n",
              "      <td>NaN</td>\n",
              "      <td>NaN</td>\n",
              "      <td>NaN</td>\n",
              "      <td>NaN</td>\n",
              "      <td>NaN</td>\n",
              "    </tr>\n",
              "    <tr>\n",
              "      <th>5</th>\n",
              "      <td>NaN</td>\n",
              "      <td>NaN</td>\n",
              "      <td>NaN</td>\n",
              "      <td>NaN</td>\n",
              "      <td>NaN</td>\n",
              "      <td>NaN</td>\n",
              "      <td>NaN</td>\n",
              "      <td>NaN</td>\n",
              "      <td>NaN</td>\n",
              "      <td>NaN</td>\n",
              "      <td>NaN</td>\n",
              "      <td>NaN</td>\n",
              "      <td>NaN</td>\n",
              "      <td>NaN</td>\n",
              "      <td>NaN</td>\n",
              "      <td>NaN</td>\n",
              "      <td>NaN</td>\n",
              "      <td>NaN</td>\n",
              "    </tr>\n",
              "  </tbody>\n",
              "</table>\n",
              "</div>"
            ],
            "text/plain": [
              "  2002 2003 2004 2005 2006 2007 2008  ... 2013 2014 2015 2016 2017 2018 2019\n",
              "1  NaN  NaN  NaN  NaN  NaN  NaN  NaN  ...  NaN  NaN  NaN  NaN  NaN  NaN  NaN\n",
              "2  NaN  NaN  NaN  NaN  NaN  NaN  NaN  ...  NaN  NaN  NaN  NaN  NaN  NaN  NaN\n",
              "3  NaN  NaN  NaN  NaN  NaN  NaN  NaN  ...  NaN  NaN  NaN  NaN  NaN  NaN  NaN\n",
              "4  NaN  NaN  NaN  NaN  NaN  NaN  NaN  ...  NaN  NaN  NaN  NaN  NaN  NaN  NaN\n",
              "5  NaN  NaN  NaN  NaN  NaN  NaN  NaN  ...  NaN  NaN  NaN  NaN  NaN  NaN  NaN\n",
              "\n",
              "[5 rows x 18 columns]"
            ]
          },
          "metadata": {},
          "execution_count": 59
        }
      ]
    },
    {
      "cell_type": "markdown",
      "metadata": {
        "id": "7-uAAuULb_me"
      },
      "source": [
        "Lastly, I need to append the geographic information previously left out of the collation process and export this file as a .CSV fileto be used in later analysis. "
      ]
    },
    {
      "cell_type": "code",
      "metadata": {
        "id": "f2io_oe_bSxH"
      },
      "source": [
        "# Read one of the pollution files, subsetting out all information except columns 1, 2 and 3, from row 5 downwards (leaving just the geographic nformation for each observation)\n",
        "pm25_long = pd.concat([pd.read_csv('/content/mappm252002 (1).csv', skiprows=5, usecols=[0,1,2], dtype={'ukgridcode': 'Int64', 'x': 'Int64', 'y': 'Int64'}), pm25_long], axis=1)\n"
      ],
      "execution_count": null,
      "outputs": []
    },
    {
      "cell_type": "code",
      "metadata": {
        "colab": {
          "base_uri": "https://localhost:8080/",
          "height": 224
        },
        "id": "ryp4lQS4flwU",
        "outputId": "afaa26ec-ee34-4da9-a158-e1573d8e8137"
      },
      "source": [
        "# Check the output \n",
        "pm25_long.head()"
      ],
      "execution_count": 61,
      "outputs": [
        {
          "output_type": "execute_result",
          "data": {
            "text/html": [
              "<div>\n",
              "<style scoped>\n",
              "    .dataframe tbody tr th:only-of-type {\n",
              "        vertical-align: middle;\n",
              "    }\n",
              "\n",
              "    .dataframe tbody tr th {\n",
              "        vertical-align: top;\n",
              "    }\n",
              "\n",
              "    .dataframe thead th {\n",
              "        text-align: right;\n",
              "    }\n",
              "</style>\n",
              "<table border=\"1\" class=\"dataframe\">\n",
              "  <thead>\n",
              "    <tr style=\"text-align: right;\">\n",
              "      <th></th>\n",
              "      <th>ukgridcode</th>\n",
              "      <th>x</th>\n",
              "      <th>y</th>\n",
              "      <th>2002</th>\n",
              "      <th>2003</th>\n",
              "      <th>2004</th>\n",
              "      <th>2005</th>\n",
              "      <th>2006</th>\n",
              "      <th>2007</th>\n",
              "      <th>2008</th>\n",
              "      <th>2009</th>\n",
              "      <th>2010</th>\n",
              "      <th>2011</th>\n",
              "      <th>2012</th>\n",
              "      <th>2013</th>\n",
              "      <th>2014</th>\n",
              "      <th>2015</th>\n",
              "      <th>2016</th>\n",
              "      <th>2017</th>\n",
              "      <th>2018</th>\n",
              "      <th>2019</th>\n",
              "    </tr>\n",
              "  </thead>\n",
              "  <tbody>\n",
              "    <tr>\n",
              "      <th>0</th>\n",
              "      <td>54291</td>\n",
              "      <td>460500</td>\n",
              "      <td>1221500</td>\n",
              "      <td>NaN</td>\n",
              "      <td>NaN</td>\n",
              "      <td>NaN</td>\n",
              "      <td>NaN</td>\n",
              "      <td>NaN</td>\n",
              "      <td>NaN</td>\n",
              "      <td>NaN</td>\n",
              "      <td>NaN</td>\n",
              "      <td>NaN</td>\n",
              "      <td>NaN</td>\n",
              "      <td>NaN</td>\n",
              "      <td>NaN</td>\n",
              "      <td>NaN</td>\n",
              "      <td>NaN</td>\n",
              "      <td>NaN</td>\n",
              "      <td>NaN</td>\n",
              "      <td>NaN</td>\n",
              "      <td>NaN</td>\n",
              "    </tr>\n",
              "    <tr>\n",
              "      <th>1</th>\n",
              "      <td>54292</td>\n",
              "      <td>461500</td>\n",
              "      <td>1221500</td>\n",
              "      <td>NaN</td>\n",
              "      <td>NaN</td>\n",
              "      <td>NaN</td>\n",
              "      <td>NaN</td>\n",
              "      <td>NaN</td>\n",
              "      <td>NaN</td>\n",
              "      <td>NaN</td>\n",
              "      <td>NaN</td>\n",
              "      <td>NaN</td>\n",
              "      <td>NaN</td>\n",
              "      <td>NaN</td>\n",
              "      <td>NaN</td>\n",
              "      <td>NaN</td>\n",
              "      <td>NaN</td>\n",
              "      <td>NaN</td>\n",
              "      <td>NaN</td>\n",
              "      <td>NaN</td>\n",
              "      <td>NaN</td>\n",
              "    </tr>\n",
              "    <tr>\n",
              "      <th>2</th>\n",
              "      <td>54294</td>\n",
              "      <td>463500</td>\n",
              "      <td>1221500</td>\n",
              "      <td>NaN</td>\n",
              "      <td>NaN</td>\n",
              "      <td>NaN</td>\n",
              "      <td>NaN</td>\n",
              "      <td>NaN</td>\n",
              "      <td>NaN</td>\n",
              "      <td>NaN</td>\n",
              "      <td>NaN</td>\n",
              "      <td>NaN</td>\n",
              "      <td>NaN</td>\n",
              "      <td>NaN</td>\n",
              "      <td>NaN</td>\n",
              "      <td>NaN</td>\n",
              "      <td>NaN</td>\n",
              "      <td>NaN</td>\n",
              "      <td>NaN</td>\n",
              "      <td>NaN</td>\n",
              "      <td>NaN</td>\n",
              "    </tr>\n",
              "    <tr>\n",
              "      <th>3</th>\n",
              "      <td>54979</td>\n",
              "      <td>458500</td>\n",
              "      <td>1220500</td>\n",
              "      <td>NaN</td>\n",
              "      <td>NaN</td>\n",
              "      <td>NaN</td>\n",
              "      <td>NaN</td>\n",
              "      <td>NaN</td>\n",
              "      <td>NaN</td>\n",
              "      <td>NaN</td>\n",
              "      <td>NaN</td>\n",
              "      <td>NaN</td>\n",
              "      <td>NaN</td>\n",
              "      <td>NaN</td>\n",
              "      <td>NaN</td>\n",
              "      <td>NaN</td>\n",
              "      <td>NaN</td>\n",
              "      <td>NaN</td>\n",
              "      <td>NaN</td>\n",
              "      <td>NaN</td>\n",
              "      <td>NaN</td>\n",
              "    </tr>\n",
              "    <tr>\n",
              "      <th>4</th>\n",
              "      <td>54980</td>\n",
              "      <td>459500</td>\n",
              "      <td>1220500</td>\n",
              "      <td>NaN</td>\n",
              "      <td>NaN</td>\n",
              "      <td>NaN</td>\n",
              "      <td>NaN</td>\n",
              "      <td>NaN</td>\n",
              "      <td>NaN</td>\n",
              "      <td>NaN</td>\n",
              "      <td>NaN</td>\n",
              "      <td>NaN</td>\n",
              "      <td>NaN</td>\n",
              "      <td>NaN</td>\n",
              "      <td>NaN</td>\n",
              "      <td>NaN</td>\n",
              "      <td>NaN</td>\n",
              "      <td>NaN</td>\n",
              "      <td>NaN</td>\n",
              "      <td>NaN</td>\n",
              "      <td>NaN</td>\n",
              "    </tr>\n",
              "  </tbody>\n",
              "</table>\n",
              "</div>"
            ],
            "text/plain": [
              "   ukgridcode       x        y 2002 2003 2004  ... 2014 2015 2016 2017 2018 2019\n",
              "0       54291  460500  1221500  NaN  NaN  NaN  ...  NaN  NaN  NaN  NaN  NaN  NaN\n",
              "1       54292  461500  1221500  NaN  NaN  NaN  ...  NaN  NaN  NaN  NaN  NaN  NaN\n",
              "2       54294  463500  1221500  NaN  NaN  NaN  ...  NaN  NaN  NaN  NaN  NaN  NaN\n",
              "3       54979  458500  1220500  NaN  NaN  NaN  ...  NaN  NaN  NaN  NaN  NaN  NaN\n",
              "4       54980  459500  1220500  NaN  NaN  NaN  ...  NaN  NaN  NaN  NaN  NaN  NaN\n",
              "\n",
              "[5 rows x 21 columns]"
            ]
          },
          "metadata": {},
          "execution_count": 61
        }
      ]
    },
    {
      "cell_type": "code",
      "metadata": {
        "id": "Ej7gwqs1pY0-"
      },
      "source": [
        "# Export as a CSV file\n",
        "pm25_long.to_csv('pm25_long.csv', index=False)"
      ],
      "execution_count": 63,
      "outputs": []
    }
  ]
}