{
  "nbformat": 4,
  "nbformat_minor": 0,
  "metadata": {
    "colab": {
      "name": "103_postcode_pollution_lookup.ipynb",
      "provenance": [],
      "collapsed_sections": []
    },
    "kernelspec": {
      "name": "python3",
      "display_name": "Python 3"
    },
    "language_info": {
      "name": "python"
    }
  },
  "cells": [
    {
      "cell_type": "markdown",
      "metadata": {
        "id": "1xdXb3NHbIVx"
      },
      "source": [
        "# 1. Data wrangling"
      ]
    },
    {
      "cell_type": "markdown",
      "metadata": {
        "id": "Hx089QFiNuPh"
      },
      "source": [
        "## 103. Postcode / pollution lookup\n",
        "\n",
        "Having collated the raw postcode and pollution source files in Notebooks 101 and 102, I can now add postcode data to the pollution maps via a lookup on their shared 'x' and 'y' variables. \n",
        "\n",
        "In this notebook I will add postcode data to each 1km gridsquare of the PM.25 pollution dataset.\n"
      ]
    },
    {
      "cell_type": "code",
      "metadata": {
        "id": "J79HqyGgcsBA"
      },
      "source": [
        "# Import packages\n",
        "import pandas as pd\n",
        "import numpy as np\n",
        "import os\n",
        "import glob"
      ],
      "execution_count": 1,
      "outputs": []
    },
    {
      "cell_type": "code",
      "metadata": {
        "id": "vK58CvGaHmXX"
      },
      "source": [
        "# Load postcode data into a working variable\n",
        "postcodes = pd.read_csv('/content/postcodes.csv', \n",
        "                        dtype={'Postcode': 'str',\n",
        "                               'x': 'Int64',\n",
        "                               'y': 'Int64'}\n",
        "                        )"
      ],
      "execution_count": 4,
      "outputs": []
    },
    {
      "cell_type": "code",
      "metadata": {
        "id": "RV20PfrgNiZu"
      },
      "source": [
        "# Load PM25 data into a working variable\n",
        "pm25_long = pd.read_csv('/content/pm25_long.csv', \n",
        "                        dtype={'ukgridcode': 'Int64',\n",
        "                               'x': 'Int64',\n",
        "                               'y': 'Int64',\n",
        "                               '2002': np.float64,\n",
        "                               '2003': np.float64,\n",
        "                               '2004': np.float64,\n",
        "                               '2005': np.float64,\n",
        "                               '2006': np.float64,\n",
        "                               '2007': np.float64,\n",
        "                               '2008': np.float64,\n",
        "                               '2009': np.float64,\n",
        "                               '2010': np.float64,\n",
        "                               '2011': np.float64,\n",
        "                               '2012': np.float64,\n",
        "                               '2013': np.float64,\n",
        "                               '2014': np.float64,\n",
        "                               '2015': np.float64,\n",
        "                               '2016': np.float64,\n",
        "                               '2017': np.float64,\n",
        "                               '2018': np.float64,\n",
        "                               '2019': np.float64}\n",
        "                        )"
      ],
      "execution_count": 9,
      "outputs": []
    },
    {
      "cell_type": "markdown",
      "metadata": {
        "id": "I2Effg4lRaZg"
      },
      "source": [
        "I know from Notebook 102 that the PM25 dataset contains NaN values. \n",
        "\n",
        "I should check the number of rows containing NaNs. "
      ]
    },
    {
      "cell_type": "code",
      "metadata": {
        "colab": {
          "base_uri": "https://localhost:8080/"
        },
        "id": "4ArmgLbHQ5lv",
        "outputId": "c727054d-78db-4e58-cd45-b2d249436820"
      },
      "source": [
        "n_rows = pm25_long.shape[0]\n",
        "non_na_rows = pm25_long.shape[0] - pm25_long.dropna().shape[0]\n",
        "\n",
        "print(f\"\"\"\n",
        "The total number of rows in the PM25 dataset is: {n_rows}\n",
        "The number of rows with NaNs in the PM25 dataset is: {non_na_rows}\n",
        "This is equivalent to {non_na_rows / n_rows:.1%}\n",
        "\"\"\")"
      ],
      "execution_count": 27,
      "outputs": [
        {
          "output_type": "stream",
          "text": [
            "\n",
            "The total number of rows in the PM25 dataset is: 281803\n",
            "The number of rows witht NaNs in the PM25 dataset is: 37891\n",
            "This is equivalent to 13.4%\n",
            "\n"
          ],
          "name": "stdout"
        }
      ]
    },
    {
      "cell_type": "markdown",
      "metadata": {
        "id": "J-YkI_ydTyq2"
      },
      "source": [
        "I will proceed with this smaller subset for now but may return to increase training data later if needed, by including rows with a small number of NaN values and using imputation methods to fill them.\n",
        "\n"
      ]
    },
    {
      "cell_type": "code",
      "metadata": {
        "id": "FOh8RmUGX3h_"
      },
      "source": [
        "# Subset out all non-negative rows in the PM25 dataset\n",
        "nn_pm25_long = pm25_long.dropna(how='any', axis=0)"
      ],
      "execution_count": 25,
      "outputs": []
    },
    {
      "cell_type": "code",
      "metadata": {
        "id": "nQ8bBl3NYBX-"
      },
      "source": [
        "nn_pm25_long = pd.merge(nn_pm25_long, postcodes, how = 'left', on = ['x','y'])"
      ],
      "execution_count": 28,
      "outputs": []
    },
    {
      "cell_type": "code",
      "metadata": {
        "colab": {
          "base_uri": "https://localhost:8080/"
        },
        "id": "uCFqvWZ1cgXn",
        "outputId": "58ac57a3-fc04-405e-9575-70c455a5a2db"
      },
      "source": [
        "print(f\"\"\"\n",
        "The total number of rows in the new dataset is: {nn_pm25_long.shape[0]}\n",
        "The number of rows with NaNs in the new dataset is: {nn_pm25_long.shape[0] - nn_pm25_long.dropna().shape[0]}\n",
        "\"\"\")"
      ],
      "execution_count": 32,
      "outputs": [
        {
          "output_type": "stream",
          "text": [
            "\n",
            "The total number of rows in the new dataset is: 243912\n",
            "The number of rows with NaNs in the new dataset is: 243909\n",
            "\n"
          ],
          "name": "stdout"
        }
      ]
    }
  ]
}