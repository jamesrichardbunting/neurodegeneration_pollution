{
  "nbformat": 4,
  "nbformat_minor": 0,
  "metadata": {
    "colab": {
      "name": "101_postcode_data_wrangling.ipynb",
      "provenance": [],
      "collapsed_sections": [],
      "authorship_tag": "ABX9TyOC19BEtorL/eF+nUmnV08B",
      "include_colab_link": true
    },
    "kernelspec": {
      "name": "python3",
      "display_name": "Python 3"
    },
    "language_info": {
      "name": "python"
    }
  },
  "cells": [
    {
      "cell_type": "markdown",
      "metadata": {
        "id": "view-in-github",
        "colab_type": "text"
      },
      "source": [
        "<a href=\"https://colab.research.google.com/github/jamesrichardbunting/neurodegeneration_pollution/blob/main/101_postcode_data_wrangling.ipynb\" target=\"_parent\"><img src=\"https://colab.research.google.com/assets/colab-badge.svg\" alt=\"Open In Colab\"/></a>"
      ]
    },
    {
      "cell_type": "markdown",
      "metadata": {
        "id": "8rA0j8KB7C5v"
      },
      "source": [
        "# 1. Data wrangling"
      ]
    },
    {
      "cell_type": "markdown",
      "metadata": {
        "id": "KNfNG7KfgKPp"
      },
      "source": [
        "## 1.1 Combine the postcode datasets\n",
        "\n",
        "Postcode data is provided as open data by the Office for National Statistics (ONS). \n",
        "\n",
        "All 1.7 million UK postcodes are provided, along their administrative area, the NHS ward in which they lie, and their 'easting' and 'northing' coordinates. Note that eastings and northings correspond to x and y coordinates (respectively) on a grid reference map of the UK. \n",
        "\n",
        "These data are provided as 120 individual .CSV files. \n",
        "\n",
        "In this notebook, I will collate these files into a single, more easily searchable file.  "
      ]
    },
    {
      "cell_type": "code",
      "metadata": {
        "id": "YeOgaiRJVWNk"
      },
      "source": [
        "# Import packages\n",
        "import pandas as pd\n",
        "import numpy as np\n",
        "import os\n",
        "import glob"
      ],
      "execution_count": null,
      "outputs": []
    },
    {
      "cell_type": "markdown",
      "metadata": {
        "id": "B3VfY94qPRAV"
      },
      "source": [
        "I will define a simple function to identify all .CSV files in the working directory and save the filenames to a new variable. "
      ]
    },
    {
      "cell_type": "code",
      "metadata": {
        "id": "_6DKfjw7_vVh"
      },
      "source": [
        "# Define a function to identify all .CSV files in the working directory\n",
        "def csv_finder(): \n",
        "  extension = '.csv' # Define the string to be used as a search term\n",
        "  csv_files = [i for i in glob.glob(f\"*{extension}\")] # Search working directory for files containing the .CSV extension and save the file names\n",
        "  return csv_files # Return the list of CSV files "
      ],
      "execution_count": null,
      "outputs": []
    },
    {
      "cell_type": "code",
      "metadata": {
        "id": "MtsxuiZgRxU5"
      },
      "source": [
        "# Call the function and save output to a new variable\n",
        "csv_files = csv_finder()"
      ],
      "execution_count": null,
      "outputs": []
    },
    {
      "cell_type": "code",
      "metadata": {
        "colab": {
          "base_uri": "https://localhost:8080/"
        },
        "id": "6joXeZnBSho9",
        "outputId": "f2d86cb2-7ce4-4de6-c465-cece6933a16f"
      },
      "source": [
        "# Check the ouput\n",
        "print(csv_files)"
      ],
      "execution_count": null,
      "outputs": [
        {
          "output_type": "stream",
          "text": [
            "['ox.csv', 'm.csv', 'wr.csv', 'bh.csv', 'ss.csv', 'tr.csv', 'sg.csv', 'wv.csv', 'eh.csv', 'e.csv', 'hx.csv', 'tn.csv', 'bs.csv', 'td.csv', 'iv.csv', 'ca.csv', 'co.csv', 'po.csv', 'ml.csv', 'me.csv', 'fk.csv', 'dh.csv', 'ab.csv', 'sk.csv', 'dl.csv', 'wf.csv', 'sa.csv', 'br.csv', 'nr.csv', 'sw.csv', 'ct.csv', 'dg.csv', 'la.csv', 'bl.csv', 'ha.csv', 'en.csv', 'cm.csv', 'sn.csv', 'lu.csv', 'ls.csv', 'b.csv', 'cr.csv', 'ex.csv', 'tf.csv', 'ub.csv', 'sy.csv', 'le.csv', 'hd.csv', 'hg.csv', 'so.csv', 'ld.csv', 'ng.csv', 'ne.csv', 'rg.csv', 'ky.csv', 'wa.csv', 'bn.csv', 'fy.csv', 'ba.csv', 'pl.csv', 'tw.csv', 'np.csv', 'kt.csv', 'sm.csv', 'll.csv', 'w.csv', 'ws.csv', 'ip.csv', 'ts.csv', 'g.csv', 'pa.csv', 'ol.csv', 'ph.csv', 'de.csv', 'wc.csv', 'st.csv', 'rm.csv', 'tq.csv', 'hp.csv', 'sp.csv', 'ig.csv', 'ec.csv', 'cv.csv', 'ka.csv', 'bb.csv', 'dd.csv', 'ch.csv', 'cf.csv', 'gu.csv', 'hu.csv', 'ln.csv', 'cb.csv', 'kw.csv', 'wn.csv', 'nw.csv', 'ze.csv', 'al.csv', 'cw.csv', 'da.csv', 'n.csv', 'pe.csv', 'rh.csv', 'dt.csv', 'pr.csv', 'nn.csv', 'wd.csv', 'gl.csv', 's.csv', 'dy.csv', 'sr.csv', 'dn.csv', 'l.csv', 'ta.csv', 'sl.csv', 'bd.csv', 'hr.csv', 'mk.csv', 'se.csv', 'yo.csv', 'hs.csv']\n"
          ],
          "name": "stdout"
        }
      ]
    },
    {
      "cell_type": "markdown",
      "metadata": {
        "id": "g5oqEx6gSqan"
      },
      "source": [
        "The filenames are not ordered alphabetically. I should order them to allow more efficient searching later.  "
      ]
    },
    {
      "cell_type": "code",
      "metadata": {
        "colab": {
          "base_uri": "https://localhost:8080/"
        },
        "id": "wL1yU2NpTCc2",
        "outputId": "d9942b73-a167-4f82-9b65-fe23bf035999"
      },
      "source": [
        "# Sort the filenames and check the output\n",
        "csv_files = sorted(csv_files)\n",
        "print(csv_files)"
      ],
      "execution_count": null,
      "outputs": [
        {
          "output_type": "stream",
          "text": [
            "['ab.csv', 'al.csv', 'b.csv', 'ba.csv', 'bb.csv', 'bd.csv', 'bh.csv', 'bl.csv', 'bn.csv', 'br.csv', 'bs.csv', 'ca.csv', 'cb.csv', 'cf.csv', 'ch.csv', 'cm.csv', 'co.csv', 'cr.csv', 'ct.csv', 'cv.csv', 'cw.csv', 'da.csv', 'dd.csv', 'de.csv', 'dg.csv', 'dh.csv', 'dl.csv', 'dn.csv', 'dt.csv', 'dy.csv', 'e.csv', 'ec.csv', 'eh.csv', 'en.csv', 'ex.csv', 'fk.csv', 'fy.csv', 'g.csv', 'gl.csv', 'gu.csv', 'ha.csv', 'hd.csv', 'hg.csv', 'hp.csv', 'hr.csv', 'hs.csv', 'hu.csv', 'hx.csv', 'ig.csv', 'ip.csv', 'iv.csv', 'ka.csv', 'kt.csv', 'kw.csv', 'ky.csv', 'l.csv', 'la.csv', 'ld.csv', 'le.csv', 'll.csv', 'ln.csv', 'ls.csv', 'lu.csv', 'm.csv', 'me.csv', 'mk.csv', 'ml.csv', 'n.csv', 'ne.csv', 'ng.csv', 'nn.csv', 'np.csv', 'nr.csv', 'nw.csv', 'ol.csv', 'ox.csv', 'pa.csv', 'pe.csv', 'ph.csv', 'pl.csv', 'po.csv', 'pr.csv', 'rg.csv', 'rh.csv', 'rm.csv', 's.csv', 'sa.csv', 'se.csv', 'sg.csv', 'sk.csv', 'sl.csv', 'sm.csv', 'sn.csv', 'so.csv', 'sp.csv', 'sr.csv', 'ss.csv', 'st.csv', 'sw.csv', 'sy.csv', 'ta.csv', 'td.csv', 'tf.csv', 'tn.csv', 'tq.csv', 'tr.csv', 'ts.csv', 'tw.csv', 'ub.csv', 'w.csv', 'wa.csv', 'wc.csv', 'wd.csv', 'wf.csv', 'wn.csv', 'wr.csv', 'ws.csv', 'wv.csv', 'yo.csv', 'ze.csv']\n"
          ],
          "name": "stdout"
        }
      ]
    },
    {
      "cell_type": "markdown",
      "metadata": {
        "id": "CsoKVCjcTfse"
      },
      "source": [
        "I now need to collate these files into a single, searchable .CSV file. \n",
        "\n",
        "I will define a simple function to iterate through the list of filenames, returning a collated file. \n",
        "\n",
        "These postcode files contain some columns that are not needed for the rest of my analysis so I will subset only the columns I need during the collation (postcode, easting and northing). "
      ]
    },
    {
      "cell_type": "code",
      "metadata": {
        "id": "IrTzZJljC6iy"
      },
      "source": [
        "# Define a fiuction that accepts a list of filenames, collates them on columns 0, 2 and 3 and returns the combined file\n",
        "def postcode_combiner(filenames):\n",
        "  comb_postcodes = pd.concat([pd.read_csv(i, header=None, usecols=[0,2,3]) for i in filenames], ignore_index=True)\n",
        "  return comb_postcodes"
      ],
      "execution_count": null,
      "outputs": []
    },
    {
      "cell_type": "code",
      "metadata": {
        "id": "Yc_ykhMTXsr_"
      },
      "source": [
        "# Call the function and save output to a new variable\n",
        "postcodes = postcode_combiner(csv_files)"
      ],
      "execution_count": null,
      "outputs": []
    },
    {
      "cell_type": "code",
      "metadata": {
        "colab": {
          "base_uri": "https://localhost:8080/",
          "height": 204
        },
        "id": "L9Feln6PDyaa",
        "outputId": "a6b257b9-c9ce-42b7-b936-fc800b85546b"
      },
      "source": [
        "# Check the output\n",
        "postcodes.head()"
      ],
      "execution_count": null,
      "outputs": [
        {
          "output_type": "execute_result",
          "data": {
            "text/html": [
              "<div>\n",
              "<style scoped>\n",
              "    .dataframe tbody tr th:only-of-type {\n",
              "        vertical-align: middle;\n",
              "    }\n",
              "\n",
              "    .dataframe tbody tr th {\n",
              "        vertical-align: top;\n",
              "    }\n",
              "\n",
              "    .dataframe thead th {\n",
              "        text-align: right;\n",
              "    }\n",
              "</style>\n",
              "<table border=\"1\" class=\"dataframe\">\n",
              "  <thead>\n",
              "    <tr style=\"text-align: right;\">\n",
              "      <th></th>\n",
              "      <th>0</th>\n",
              "      <th>2</th>\n",
              "      <th>3</th>\n",
              "    </tr>\n",
              "  </thead>\n",
              "  <tbody>\n",
              "    <tr>\n",
              "      <th>0</th>\n",
              "      <td>AB101AB</td>\n",
              "      <td>394235</td>\n",
              "      <td>806529</td>\n",
              "    </tr>\n",
              "    <tr>\n",
              "      <th>1</th>\n",
              "      <td>AB101AF</td>\n",
              "      <td>394235</td>\n",
              "      <td>806529</td>\n",
              "    </tr>\n",
              "    <tr>\n",
              "      <th>2</th>\n",
              "      <td>AB101AG</td>\n",
              "      <td>394230</td>\n",
              "      <td>806469</td>\n",
              "    </tr>\n",
              "    <tr>\n",
              "      <th>3</th>\n",
              "      <td>AB101AH</td>\n",
              "      <td>394235</td>\n",
              "      <td>806529</td>\n",
              "    </tr>\n",
              "    <tr>\n",
              "      <th>4</th>\n",
              "      <td>AB101AL</td>\n",
              "      <td>394296</td>\n",
              "      <td>806581</td>\n",
              "    </tr>\n",
              "  </tbody>\n",
              "</table>\n",
              "</div>"
            ],
            "text/plain": [
              "         0       2       3\n",
              "0  AB101AB  394235  806529\n",
              "1  AB101AF  394235  806529\n",
              "2  AB101AG  394230  806469\n",
              "3  AB101AH  394235  806529\n",
              "4  AB101AL  394296  806581"
            ]
          },
          "metadata": {},
          "execution_count": 14
        }
      ]
    },
    {
      "cell_type": "code",
      "metadata": {
        "colab": {
          "base_uri": "https://localhost:8080/"
        },
        "id": "WaqMiLelLAGg",
        "outputId": "4731cc54-983f-460c-c699-6adfbd5b1b00"
      },
      "source": [
        "# Check the output\n",
        "postcodes.shape"
      ],
      "execution_count": null,
      "outputs": [
        {
          "output_type": "execute_result",
          "data": {
            "text/plain": [
              "(1719485, 3)"
            ]
          },
          "metadata": {},
          "execution_count": 15
        }
      ]
    },
    {
      "cell_type": "markdown",
      "metadata": {
        "id": "IdqFA5rRYEgP"
      },
      "source": [
        "This has worked as expected. The last step will be to add column headers and export the file as a .CSV file I can use in further notebooks.  "
      ]
    },
    {
      "cell_type": "code",
      "metadata": {
        "id": "0-bRezgyNm06"
      },
      "source": [
        "# Add column headers\n",
        "postcodes.columns = [\"Postcode\", \"x\", \"y\"]"
      ],
      "execution_count": null,
      "outputs": []
    },
    {
      "cell_type": "code",
      "metadata": {
        "id": "qgJ4WKJvYV1I"
      },
      "source": [
        "# Export as a CSV file\n",
        "postcodes.to_csv('postcodes.csv', index=False)"
      ],
      "execution_count": null,
      "outputs": []
    }
  ]
}